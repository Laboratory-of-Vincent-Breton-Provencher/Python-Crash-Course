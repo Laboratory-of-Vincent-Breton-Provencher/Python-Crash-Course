{
 "cells": [
  {
   "cell_type": "markdown",
   "id": "457e74d7",
   "metadata": {},
   "source": [
    "# Python crash course\n",
    "## Introduction\n",
    "\n",
    "Jupyter notebook lets users write and execute code in python using cells. To run a cell, you can either press the *run* button or press the *ctrl* and *return* keys on your keyboard."
   ]
  },
  {
   "cell_type": "code",
   "execution_count": 1,
   "id": "055db830",
   "metadata": {},
   "outputs": [
    {
     "name": "stdout",
     "output_type": "stream",
     "text": [
      "Bienvenue dans Jupyter\n"
     ]
    }
   ],
   "source": [
    "print(\"Bienvenue dans Jupyter\")"
   ]
  },
  {
   "cell_type": "markdown",
   "id": "1b0e53a5",
   "metadata": {},
   "source": [
    "With Jupyter, it is also possible to have markdown cells (like this one), where the user can write text. This can be used to document your code. The cell format let's you execute on parts of your code at a time and can be useful in certain situations.\n",
    "\n",
    "To edit a markdown cell, simply double-tap on the cell. In a code cell, simply click on the cell. \n",
    "\n",
    "Use Hashtags (\\#) to write titles. The more hashtags you use (between 1 and 6), the smaller your section title will be.\n",
    "\n",
    "# Gros titre\n",
    "## Moins gros titre\n",
    "### Moyen titre\n",
    "#### Moins moyen titre\n",
    "##### Petit titre\n",
    "###### Plus petit titre\n",
    "\n",
    "End of the Jupyter introduction!"
   ]
  },
  {
   "cell_type": "markdown",
   "id": "e07221ba",
   "metadata": {},
   "source": [
    "## The basics\n",
    "\n",
    "### Strings"
   ]
  },
  {
   "cell_type": "markdown",
   "id": "4fad7f06",
   "metadata": {},
   "source": [
    "(slide 8) Example 1: calculating the perimeter of a circle"
   ]
  },
  {
   "cell_type": "code",
   "execution_count": 2,
   "id": "2d280338",
   "metadata": {},
   "outputs": [
    {
     "name": "stdout",
     "output_type": "stream",
     "text": [
      "31.416\n"
     ]
    }
   ],
   "source": [
    "pi = 3.1416\n",
    "perimeter = 2 * pi * 5\n",
    "print(perimeter)"
   ]
  },
  {
   "cell_type": "markdown",
   "id": "58b5be9a",
   "metadata": {},
   "source": [
    "(slide 12) Example 2: types of numbers"
   ]
  },
  {
   "cell_type": "code",
   "execution_count": 3,
   "id": "23a867e1",
   "metadata": {},
   "outputs": [
    {
     "name": "stdout",
     "output_type": "stream",
     "text": [
      "3.86 <class 'float'>\n",
      "3 <class 'int'>\n"
     ]
    }
   ],
   "source": [
    "a = 3.86\n",
    "print(a, type(a))\n",
    "b = int(a)\n",
    "print(b, type(b))"
   ]
  },
  {
   "cell_type": "markdown",
   "id": "9b235e10",
   "metadata": {},
   "source": [
    "(slide 13) Example 3: Arithmetic operators"
   ]
  },
  {
   "cell_type": "code",
   "execution_count": 4,
   "id": "db4fd03f",
   "metadata": {},
   "outputs": [
    {
     "name": "stdout",
     "output_type": "stream",
     "text": [
      "7/4 = 1.75\n",
      "7//4 =  1\n",
      "7%4 = 3\n"
     ]
    }
   ],
   "source": [
    "print(\"7/4 =\", 7/4)\n",
    "print(\"7//4 = \", 7//4)\n",
    "print(\"7%4 =\", 7%4)"
   ]
  },
  {
   "cell_type": "markdown",
   "id": "730b8eb9",
   "metadata": {},
   "source": [
    "(slide 14) Example 4: Strings, part A."
   ]
  },
  {
   "cell_type": "code",
   "execution_count": 5,
   "id": "17f34821",
   "metadata": {},
   "outputs": [
    {
     "name": "stdout",
     "output_type": "stream",
     "text": [
      "----------\n",
      "--- Mouse  ---\n",
      "5\n"
     ]
    }
   ],
   "source": [
    "print(10 * \"-\")\n",
    "print(\"-\" * 3 + \" Mouse \", \"-\" * 3)\n",
    "print(len(\"Mouse\"))"
   ]
  },
  {
   "cell_type": "markdown",
   "id": "79bf4743",
   "metadata": {},
   "source": [
    "(slide 15) Example 5: Strings, part B."
   ]
  },
  {
   "cell_type": "code",
   "execution_count": 6,
   "id": "2d2372a0",
   "metadata": {},
   "outputs": [
    {
     "name": "stdout",
     "output_type": "stream",
     "text": [
      "o\n",
      "usCoe\n",
      "us\n"
     ]
    }
   ],
   "source": [
    "a = \"LocusCoeruleus\"\n",
    "print(a[1])\n",
    "print(a[3:8])\n",
    "print(a[-2:])"
   ]
  },
  {
   "cell_type": "markdown",
   "id": "81912f6e",
   "metadata": {},
   "source": [
    "**Time to practice**:\n",
    "\n",
    "In the phrase below, \n",
    "1. replace the ; with spaces using the replace function.\n",
    "2. print the word zebrafish."
   ]
  },
  {
   "cell_type": "code",
   "execution_count": 2,
   "id": "0a5bb417",
   "metadata": {},
   "outputs": [],
   "source": [
    "phrase = \"The;zebrafish;model;is;valid;and;great\""
   ]
  },
  {
   "cell_type": "markdown",
   "id": "52326c6a",
   "metadata": {},
   "source": [
    "Enter your solution in the cell below:"
   ]
  },
  {
   "cell_type": "code",
   "execution_count": 12,
   "id": "f9951e78",
   "metadata": {},
   "outputs": [
    {
     "name": "stdout",
     "output_type": "stream",
     "text": [
      "The;zebrafish;model;is;valid;and;great\n",
      "The zebrafish model is valid and great\n"
     ]
    }
   ],
   "source": [
    "newphrase = phrase.replace(';',' ')\n",
    "\n",
    "print(phrase)\n",
    "print(newphrase)"
   ]
  },
  {
   "cell_type": "code",
   "execution_count": 13,
   "id": "d043905e",
   "metadata": {},
   "outputs": [
    {
     "name": "stdout",
     "output_type": "stream",
     "text": [
      "zebrafish\n",
      "zebrafish\n"
     ]
    }
   ],
   "source": [
    "print(phrase[4:13])\n",
    "\n",
    "#it can also be done with the split function\n",
    "print(phrase.split(';')[1])"
   ]
  },
  {
   "cell_type": "markdown",
   "id": "83286445",
   "metadata": {},
   "source": [
    "### Lists\n",
    "\n",
    "(slide 17) Example 6: simple list"
   ]
  },
  {
   "cell_type": "code",
   "execution_count": 7,
   "id": "042f66b2",
   "metadata": {},
   "outputs": [
    {
     "name": "stdout",
     "output_type": "stream",
     "text": [
      "[] [2, 3, 'cervo', 5]\n",
      "cervo\n"
     ]
    }
   ],
   "source": [
    "a = [] # This is an empty list\n",
    "b = [2, 3, \"cervo\", 5] # This is another list\n",
    "print(a, b)\n",
    "print(b[2])"
   ]
  },
  {
   "cell_type": "markdown",
   "id": "b6ce5575",
   "metadata": {},
   "source": [
    "(slide 18) Example 7: functions of the list"
   ]
  },
  {
   "cell_type": "code",
   "execution_count": 8,
   "id": "aaf2c9fa",
   "metadata": {},
   "outputs": [
    {
     "name": "stdout",
     "output_type": "stream",
     "text": [
      "['Mouse']\n",
      "4\n"
     ]
    }
   ],
   "source": [
    "a.append(\"Mouse\")\n",
    "print(a)\n",
    "print(len(b))"
   ]
  },
  {
   "cell_type": "markdown",
   "id": "a8839603",
   "metadata": {},
   "source": [
    "### The dictionnary\n",
    "\n",
    "**Time to practise**:\n",
    "Create an empty dictionary named “country_capital”: \n",
    "1. Add 4 countries and their capitals as key-value pairs. \n",
    "2. Check if the country “France” is in the dictionary.\n",
    "3. Print all the keys of the dictionary.\n",
    "4. Print all the values of the dictionary.\n",
    "\n",
    "Enter your solution in the cell below:"
   ]
  },
  {
   "cell_type": "code",
   "execution_count": 18,
   "id": "a52f4242",
   "metadata": {},
   "outputs": [
    {
     "name": "stdout",
     "output_type": "stream",
     "text": [
      "False\n",
      "dict_keys(['Canada', 'Égypte', 'Australie', 'Japon'])\n",
      "dict_values(['Ottawa', 'Le Caire', 'Canberra', 'Tokyo'])\n"
     ]
    }
   ],
   "source": [
    "country_capital = {}\n",
    "\n",
    "# Adding countries\n",
    "\n",
    "country_capital['Canada'] = 'Ottawa'\n",
    "country_capital['Égypte'] = 'Le Caire'\n",
    "country_capital['Australie'] = 'Canberra'\n",
    "country_capital['Japon'] = 'Tokyo'\n",
    "\n",
    "# Checking if France is in the dictionary\n",
    "\n",
    "is_France = 'France' in country_capital.keys()\n",
    "print(is_France)\n",
    "\n",
    "# Dictionary keys\n",
    "\n",
    "print(country_capital.keys())\n",
    "\n",
    "# Dictionary values\n",
    "\n",
    "print(country_capital.values())"
   ]
  },
  {
   "cell_type": "markdown",
   "id": "d5f04864",
   "metadata": {},
   "source": [
    "### The function\n",
    "\n",
    "(slide 20) Example 8: simple function"
   ]
  },
  {
   "cell_type": "code",
   "execution_count": 9,
   "id": "0df60ef0",
   "metadata": {},
   "outputs": [
    {
     "name": "stdout",
     "output_type": "stream",
     "text": [
      "8\n"
     ]
    }
   ],
   "source": [
    "def addition(a, b):\n",
    "    return a + b\n",
    "\n",
    "print(addition(3, 5))"
   ]
  },
  {
   "cell_type": "markdown",
   "id": "c8a430a4",
   "metadata": {},
   "source": [
    "### Conditional Statements\n",
    "\n",
    "**Time to practice**:\n",
    "\n",
    "Given a number (x):\n",
    "1. if x is between 1 and 50, we want to print: “The number is between 1 and 50”\n",
    "2. if x is between 51 and 100, we want to print: “The number is between 51 and 100”\n",
    "3. in other cases (x is not between 1 and 100), we want to print: “The number is not between 1 and 100”\n",
    "    \n",
    "enter your solution in the cell below:"
   ]
  },
  {
   "cell_type": "code",
   "execution_count": 23,
   "id": "ad549ee8",
   "metadata": {},
   "outputs": [
    {
     "name": "stdout",
     "output_type": "stream",
     "text": [
      "The number is between 1 and 50\n"
     ]
    }
   ],
   "source": [
    "x = 25\n",
    "\n",
    "if (1<x<50):\n",
    "    print('The number is between 1 and 50')\n",
    "elif (50<x<100):\n",
    "    print('The number is between 50 and 100')\n",
    "else:\n",
    "    print('The number is not between 1 and 100')"
   ]
  },
  {
   "cell_type": "markdown",
   "id": "00c3e2cc",
   "metadata": {},
   "source": [
    "### For loop\n",
    "\n",
    "(slide 24) Example 8: for loop for neuroscientists"
   ]
  },
  {
   "cell_type": "code",
   "execution_count": 10,
   "id": "639530a8",
   "metadata": {},
   "outputs": [
    {
     "name": "stdout",
     "output_type": "stream",
     "text": [
      "I appreciate Enton's efforts to learn neuroscience.\n",
      "I appreciate Sendryn's efforts to learn neuroscience.\n"
     ]
    }
   ],
   "source": [
    "names = [\"Enton\", \"Sendryn\"]\n",
    "\n",
    "for name in names:\n",
    "    print(f\"I appreciate {name}'s efforts to learn neuroscience.\")"
   ]
  },
  {
   "cell_type": "markdown",
   "id": "3dac1307",
   "metadata": {},
   "source": [
    "(slide 31) Example: Iterating over delicious meals"
   ]
  },
  {
   "cell_type": "code",
   "execution_count": null,
   "id": "6b4b61b4",
   "metadata": {},
   "outputs": [],
   "source": [
    "cafeteria_menu = [\"merlu\", \"hot hamburger\", \"guedille\"]\n",
    "\n",
    "for k in range(len(cafeteria_menu)):\n",
    "    print(k, \"is\", cafeteria_menu[k])\n",
    "\n",
    "for menu_index, menu_item in enumerate(cafeteria_menu):\n",
    "    print(menu_index, \" is \", menu_item)"
   ]
  },
  {
   "cell_type": "markdown",
   "id": "0e19f3b9",
   "metadata": {},
   "source": [
    "### Break, pass and continue\n",
    "\n",
    "(slide 33) Examples: Statements"
   ]
  },
  {
   "cell_type": "code",
   "execution_count": 1,
   "id": "d031ed0a",
   "metadata": {},
   "outputs": [
    {
     "name": "stdout",
     "output_type": "stream",
     "text": [
      "0\n",
      "1\n",
      "2\n"
     ]
    }
   ],
   "source": [
    "for num in range(10):\n",
    "    print(num)\n",
    "    if num == 2:\n",
    "        break"
   ]
  },
  {
   "cell_type": "code",
   "execution_count": 2,
   "id": "a3061328",
   "metadata": {},
   "outputs": [
    {
     "name": "stdout",
     "output_type": "stream",
     "text": [
      "Found an even number 2\n",
      "Found an odd number 3\n",
      "Found an even number 4\n"
     ]
    }
   ],
   "source": [
    "for num in range(2, 5):\n",
    "    if num % 2 == 0:\n",
    "        print(\"Found an even number\", num)\n",
    "        continue\n",
    "    print(\"Found an odd number\", num)"
   ]
  },
  {
   "cell_type": "markdown",
   "id": "95428e1c",
   "metadata": {},
   "source": [
    "### Recap\n",
    "\n",
    "**Time to practice:**\n",
    "\n",
    "Create a function that calculates the ratio of guanine and cytosine in the DNA. The function must take a string as argument and return a float."
   ]
  },
  {
   "cell_type": "code",
   "execution_count": 27,
   "id": "5aed6618",
   "metadata": {},
   "outputs": [],
   "source": [
    "dna_sequences = [\"ATCGA\", \"TTAAGC\", \"CGATG\"]"
   ]
  },
  {
   "cell_type": "markdown",
   "id": "0559cc25",
   "metadata": {},
   "source": [
    "enter your solution in the cell below:"
   ]
  },
  {
   "cell_type": "code",
   "execution_count": 30,
   "id": "6fa776ef",
   "metadata": {},
   "outputs": [
    {
     "name": "stdout",
     "output_type": "stream",
     "text": [
      "0.4\n",
      "0.3333333333333333\n",
      "0.6\n"
     ]
    }
   ],
   "source": [
    "def DNA_counting(string):\n",
    "    gc = string.count('C')\n",
    "    gc += string.count('G')\n",
    "    return gc/len(string)\n",
    "\n",
    "for element in dna_sequences:\n",
    "    print(DNA_counting(element))"
   ]
  },
  {
   "cell_type": "markdown",
   "id": "a233818c",
   "metadata": {},
   "source": [
    "## Working with data\n",
    "\n",
    "### Opening files using the standard library\n",
    "\n",
    "(slide 39) Example: Working directory"
   ]
  },
  {
   "cell_type": "code",
   "execution_count": 6,
   "id": "2b903802",
   "metadata": {},
   "outputs": [
    {
     "name": "stdout",
     "output_type": "stream",
     "text": [
      "Current working directory: C:\\Users\\Sandrine Poulin\\OneDrive\\Documents\\PDK Lab\\Python Crash Course\\Python-Crash-Course\n"
     ]
    }
   ],
   "source": [
    "import os\n",
    "\n",
    "current_dir = os.getcwd()\n",
    "print(\"Current working directory:\", current_dir)"
   ]
  },
  {
   "cell_type": "markdown",
   "id": "c6fe76c0",
   "metadata": {},
   "source": [
    "**Time to practice:**\n",
    "\n",
    "In this exercise, we want to get the path of a text file on your desktop and write in the file:\n",
    "\n",
    "“I hope we have ‘Merlu en croute’ for lunch. I love ‘Merlu en croute’.”\n",
    "\n",
    "1. Create an empty .txt file on your desktop\n",
    "2. Use the OS module and open() method.\n",
    "\n",
    "enter your solution in the cell below:"
   ]
  },
  {
   "cell_type": "code",
   "execution_count": 35,
   "id": "86cf7bac",
   "metadata": {},
   "outputs": [],
   "source": [
    "file_path = r\"C:\\Users\\Sandrine Poulin\\Desktop\\merlu.txt\"\n",
    "\n",
    "with open(file_path, \"w\") as file:\n",
    "    file_content = file.write(\"I hope we have 'Merlu en croute' for lunch. I love 'Merlu en croute'.\")\n",
    "    \n"
   ]
  },
  {
   "cell_type": "markdown",
   "id": "3b676aa0",
   "metadata": {},
   "source": [
    "### The pandas module\n",
    "\n",
    "**Time to practice:**\n",
    "\n",
    "With Pandas, load the titanic dataset. We want to:\n",
    "\n",
    "1. Print the name of the columns\n",
    "2. Print a sample, we want the data on one passenger.\n",
    "3. Print basic statistics of the ages.\n",
    "\n",
    "Search the web to find the correct methods and enter your solution in the cell below:"
   ]
  },
  {
   "cell_type": "code",
   "execution_count": 59,
   "id": "696a126e",
   "metadata": {},
   "outputs": [
    {
     "name": "stdout",
     "output_type": "stream",
     "text": [
      "Index(['PassengerId', 'Survived', 'Pclass', 'Name', 'Sex', 'Age', 'SibSp',\n",
      "       'Parch', 'Ticket', 'Fare', 'Cabin', 'Embarked'],\n",
      "      dtype='object')\n",
      "PassengerId                     112\n",
      "Survived                          0\n",
      "Pclass                            3\n",
      "Name           Zabour, Miss. Hileni\n",
      "Sex                          female\n",
      "Age                            14.5\n",
      "SibSp                             1\n",
      "Parch                             0\n",
      "Ticket                         2665\n",
      "Fare                        14.4542\n",
      "Cabin                           NaN\n",
      "Embarked                          C\n",
      "Name: 111, dtype: object\n",
      "count    714.000000\n",
      "mean      29.699118\n",
      "std       14.526497\n",
      "min        0.420000\n",
      "25%       20.125000\n",
      "50%       28.000000\n",
      "75%       38.000000\n",
      "max       80.000000\n",
      "Name: Age, dtype: float64\n"
     ]
    }
   ],
   "source": [
    "import pandas as pd\n",
    "\n",
    "path = 'titanic_dataset.csv'\n",
    "\n",
    "titanic_ds = pd.read_csv(path)\n",
    "\n",
    "print(titanic_ds.columns)\n",
    "\n",
    "print(titanic_ds.loc[111])\n",
    "\n",
    "ages = titanic_ds.describe()['Age']\n",
    "\n",
    "print(ages)"
   ]
  },
  {
   "cell_type": "markdown",
   "id": "b6769671",
   "metadata": {},
   "source": [
    "### The numpy module\n",
    "\n",
    "**Time to practice:**\n",
    "\n",
    "Generate an array of integers between 1 and 15.\n",
    "Generate 1000 points between 0 and 30.\n",
    "\n",
    "For each array you generate, give us the:\n",
    "\n",
    "- Mean\n",
    "- STD\n",
    "- Max\n",
    "- Min\n",
    "- Median\n",
    "\n",
    "What happens if in the array there is a Nan (Not a number). Is there a simple solution?\n",
    "\n",
    "enter your solution in the cell below:"
   ]
  },
  {
   "cell_type": "code",
   "execution_count": 64,
   "id": "7ca086da",
   "metadata": {},
   "outputs": [
    {
     "name": "stdout",
     "output_type": "stream",
     "text": [
      "(8.0, 4.320493798938574, 15, 1, 8.0)\n",
      "(14.568, 8.91915780777535, 30, 0, 14.0)\n"
     ]
    }
   ],
   "source": [
    "import numpy as np\n",
    "\n",
    "first_array = np.arange(1,16)\n",
    "second_array = np.random.randint(0,31,1000)\n",
    "\n",
    "def stats(array):\n",
    "    return np.mean(array), np.std(array), np.max(array), np.min(array), np.median(array)\n",
    "\n",
    "print(stats(first_array))\n",
    "print(stats(second_array))"
   ]
  },
  {
   "cell_type": "markdown",
   "id": "44280919",
   "metadata": {},
   "source": [
    "### The matplotlib and seaborn modules\n",
    "\n",
    "(slide 46) Example: Simple plot"
   ]
  },
  {
   "cell_type": "code",
   "execution_count": 66,
   "id": "e6524ae5",
   "metadata": {},
   "outputs": [
    {
     "data": {
      "image/png": "[encoded data removed]",
      "text/plain": [
       "<Figure size 432x288 with 1 Axes>"
      ]
     },
     "metadata": {
      "needs_background": "light"
     },
     "output_type": "display_data"
    }
   ],
   "source": [
    "import matplotlib.pyplot as plt\n",
    "\n",
    "x = [1, 2, 3, 4, 5]\n",
    "y = [3, 5, 1, 0, -2]\n",
    "\n",
    "plt.plot(x, y)\n",
    "plt.xlabel(\"Time [Hours]\")\n",
    "plt.ylabel(\"Number of bugs in my code\")\n",
    "plt.show()"
   ]
  },
  {
   "cell_type": "markdown",
   "id": "fb4cef85",
   "metadata": {},
   "source": [
    "**Time to practice:**\n",
    "\n",
    "Generate a simple plot with 2 lines and a scatter plot. For each set, add and change those parameters:\n",
    "\n",
    "- Axis name\n",
    "- Legend\n",
    "- Line colors\n",
    "- Scatter markers\n",
    "- Title of the plot\n",
    "\n",
    "Also, save the plot in a vector graphics format (pdf or svg).\n",
    "\n",
    "enter your solution in the cell below:"
   ]
  },
  {
   "cell_type": "code",
   "execution_count": 76,
   "id": "aea5d257",
   "metadata": {},
   "outputs": [
    {
     "data": {
      "image/png": "[encoded data removed]",
      "text/plain": [
       "<Figure size 432x288 with 1 Axes>"
      ]
     },
     "metadata": {
      "needs_background": "light"
     },
     "output_type": "display_data"
    }
   ],
   "source": [
    "x = np.linspace(-16,16)\n",
    "y1 = 2*x**2\n",
    "y2 = 10*x\n",
    "y3 = 0.05*x**3\n",
    "\n",
    "\n",
    "plt.plot(x,y1,color = 'orangered')\n",
    "plt.plot(x,y2, color = 'orange')\n",
    "plt.scatter(x,y3, color = 'gold', marker = '.')\n",
    "plt.xlabel('X')\n",
    "plt.ylabel('Y')\n",
    "plt.title('Title')\n",
    "plt.show()"
   ]
  },
  {
   "cell_type": "markdown",
   "id": "bf7c842a",
   "metadata": {},
   "source": [
    "(slide 45) Example: seaborn"
   ]
  },
  {
   "cell_type": "code",
   "execution_count": 11,
   "id": "e47fc5b4",
   "metadata": {},
   "outputs": [
    {
     "data": {
      "image/png": "[encoded data removed]",
      "text/plain": [
       "<Figure size 432x288 with 1 Axes>"
      ]
     },
     "metadata": {
      "needs_background": "light"
     },
     "output_type": "display_data"
    }
   ],
   "source": [
    "import seaborn as sns\n",
    "\n",
    "sns.set_context(\"poster\")\n",
    "plt.plot([1, 2, 3], [5, 7, 3])\n",
    "plt.xlabel(\"Time [s]\")\n",
    "plt.tight_layout()\n",
    "plt.show()"
   ]
  },
  {
   "cell_type": "markdown",
   "id": "1e90c2d9",
   "metadata": {},
   "source": [
    "# <font color='red'> Time for the projects!!</font> "
   ]
  }
 ],
 "metadata": {
  "kernelspec": {
   "display_name": "Python 3",
   "language": "python",
   "name": "python3"
  },
  "language_info": {
   "codemirror_mode": {
    "name": "ipython",
    "version": 3
   },
   "file_extension": ".py",
   "mimetype": "text/x-python",
   "name": "python",
   "nbconvert_exporter": "python",
   "pygments_lexer": "ipython3",
   "version": "3.9.12"
  }
 },
 "nbformat": 4,
 "nbformat_minor": 5
}
