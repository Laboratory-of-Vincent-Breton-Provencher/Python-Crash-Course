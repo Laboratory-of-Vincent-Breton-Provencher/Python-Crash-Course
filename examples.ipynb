{
 "cells": [
  {
   "cell_type": "markdown",
   "id": "457e74d7",
   "metadata": {},
   "source": [
    "# Python crash course\n",
    "## Introduction\n",
    "\n",
    "Jupyter notebook lets users write and execute code in python using cells. To run a cell, you can either press the *run* button or press the *ctrl* and *return* keys on your keyboard."
   ]
  },
  {
   "cell_type": "code",
   "execution_count": 1,
   "id": "055db830",
   "metadata": {},
   "outputs": [
    {
     "name": "stdout",
     "output_type": "stream",
     "text": [
      "Bienvenue dans Jupyter\n"
     ]
    }
   ],
   "source": [
    "print(\"Bienvenue dans Jupyter\")"
   ]
  },
  {
   "cell_type": "markdown",
   "id": "1b0e53a5",
   "metadata": {},
   "source": [
    "With Jupyter, it is also possible to have markdown cells (like this one), where the user can write text. This can be used to document your code. The cell format let's you execute on parts of your code at a time and can be useful in certain situations.\n",
    "\n",
    "To edit a markdown cell, simply double-tap on the cell. In a code cell, simply click on the cell. \n",
    "\n",
    "Use Hashtags (\\#) to write titles. The more hashtags you use (between 1 and 6), the smaller your section title will be.\n",
    "\n",
    "# Gros titre\n",
    "## Moins gros titre\n",
    "### Moyen titre\n",
    "#### Moins moyen titre\n",
    "##### Petit titre\n",
    "###### Plus petit titre\n",
    "\n",
    "End of the Jupyter introduction!"
   ]
  },
  {
   "cell_type": "markdown",
   "id": "e07221ba",
   "metadata": {},
   "source": [
    "## The basics\n",
    "\n",
    "### Strings"
   ]
  },
  {
   "cell_type": "markdown",
   "id": "4fad7f06",
   "metadata": {},
   "source": [
    "(slide 8) Example 1: calculating the perimeter of a circle"
   ]
  },
  {
   "cell_type": "code",
   "execution_count": 2,
   "id": "2d280338",
   "metadata": {},
   "outputs": [
    {
     "name": "stdout",
     "output_type": "stream",
     "text": [
      "31.416\n"
     ]
    }
   ],
   "source": [
    "pi = 3.1416\n",
    "perimeter = 2 * pi * 5\n",
    "print(perimeter)"
   ]
  },
  {
   "cell_type": "markdown",
   "id": "58b5be9a",
   "metadata": {},
   "source": [
    "(slide 12) Example 2: types of numbers"
   ]
  },
  {
   "cell_type": "code",
   "execution_count": 3,
   "id": "23a867e1",
   "metadata": {},
   "outputs": [
    {
     "name": "stdout",
     "output_type": "stream",
     "text": [
      "3.86 <class 'float'>\n",
      "3 <class 'int'>\n"
     ]
    }
   ],
   "source": [
    "a = 3.86\n",
    "print(a, type(a))\n",
    "b = int(a)\n",
    "print(b, type(b))"
   ]
  },
  {
   "cell_type": "markdown",
   "id": "9b235e10",
   "metadata": {},
   "source": [
    "(slide 13) Example 3: Arithmetic operators"
   ]
  },
  {
   "cell_type": "code",
   "execution_count": 4,
   "id": "db4fd03f",
   "metadata": {},
   "outputs": [
    {
     "name": "stdout",
     "output_type": "stream",
     "text": [
      "7/4 = 1.75\n",
      "7//4 =  1\n",
      "7%4 = 3\n"
     ]
    }
   ],
   "source": [
    "print(\"7/4 =\", 7/4)\n",
    "print(\"7//4 = \", 7//4)\n",
    "print(\"7%4 =\", 7%4)"
   ]
  },
  {
   "cell_type": "markdown",
   "id": "730b8eb9",
   "metadata": {},
   "source": [
    "(slide 14) Example 4: Strings, part A."
   ]
  },
  {
   "cell_type": "code",
   "execution_count": 5,
   "id": "17f34821",
   "metadata": {},
   "outputs": [
    {
     "name": "stdout",
     "output_type": "stream",
     "text": [
      "----------\n",
      "--- Mouse  ---\n",
      "5\n"
     ]
    }
   ],
   "source": [
    "print(10 * \"-\")\n",
    "print(\"-\" * 3 + \" Mouse \", \"-\" * 3)\n",
    "print(len(\"Mouse\"))"
   ]
  },
  {
   "cell_type": "markdown",
   "id": "79bf4743",
   "metadata": {},
   "source": [
    "(slide 15) Example 5: Strings, part B."
   ]
  },
  {
   "cell_type": "code",
   "execution_count": 6,
   "id": "2d2372a0",
   "metadata": {},
   "outputs": [
    {
     "name": "stdout",
     "output_type": "stream",
     "text": [
      "o\n",
      "usCoe\n",
      "us\n"
     ]
    }
   ],
   "source": [
    "a = \"LocusCoeruleus\"\n",
    "print(a[1])\n",
    "print(a[3:8])\n",
    "print(a[-2:])"
   ]
  },
  {
   "cell_type": "markdown",
   "id": "81912f6e",
   "metadata": {},
   "source": [
    "**Time to practice**:"
   ]
  },
  {
   "cell_type": "code",
   "execution_count": null,
   "id": "0a5bb417",
   "metadata": {},
   "outputs": [],
   "source": []
  },
  {
   "cell_type": "markdown",
   "id": "83286445",
   "metadata": {},
   "source": [
    "### Lists\n",
    "\n",
    "(slide 17) Example 6: simple list"
   ]
  },
  {
   "cell_type": "code",
   "execution_count": 7,
   "id": "042f66b2",
   "metadata": {},
   "outputs": [
    {
     "name": "stdout",
     "output_type": "stream",
     "text": [
      "[] [2, 3, 'cervo', 5]\n",
      "cervo\n"
     ]
    }
   ],
   "source": [
    "a = [] # This is an empty list\n",
    "b = [2, 3, \"cervo\", 5] # This is another list\n",
    "print(a, b)\n",
    "print(b[2])"
   ]
  },
  {
   "cell_type": "markdown",
   "id": "b6ce5575",
   "metadata": {},
   "source": [
    "(slide 18) Example 7: functions of the list"
   ]
  },
  {
   "cell_type": "code",
   "execution_count": 8,
   "id": "aaf2c9fa",
   "metadata": {},
   "outputs": [
    {
     "name": "stdout",
     "output_type": "stream",
     "text": [
      "['Mouse']\n",
      "4\n"
     ]
    }
   ],
   "source": [
    "a.append(\"Mouse\")\n",
    "print(a)\n",
    "print(len(b))"
   ]
  },
  {
   "cell_type": "markdown",
   "id": "325eeea8",
   "metadata": {},
   "source": [
    "**Time to practice**:"
   ]
  },
  {
   "cell_type": "code",
   "execution_count": null,
   "id": "2542ef57",
   "metadata": {},
   "outputs": [],
   "source": []
  },
  {
   "cell_type": "markdown",
   "id": "d5f04864",
   "metadata": {},
   "source": [
    "### The function\n",
    "\n",
    "(slide 20) Example 8: simple function"
   ]
  },
  {
   "cell_type": "code",
   "execution_count": 9,
   "id": "0df60ef0",
   "metadata": {},
   "outputs": [
    {
     "name": "stdout",
     "output_type": "stream",
     "text": [
      "8\n"
     ]
    }
   ],
   "source": [
    "def addition(a, b):\n",
    "    return a + b\n",
    "\n",
    "print(addition(3, 5))"
   ]
  },
  {
   "cell_type": "markdown",
   "id": "c8a430a4",
   "metadata": {},
   "source": [
    "### Conditional Statements\n",
    "\n",
    "**Time to practice**:"
   ]
  },
  {
   "cell_type": "code",
   "execution_count": null,
   "id": "ad549ee8",
   "metadata": {},
   "outputs": [],
   "source": []
  },
  {
   "cell_type": "markdown",
   "id": "00c3e2cc",
   "metadata": {},
   "source": [
    "### For loop\n",
    "\n",
    "(slide 24) Example 8: for loop for neuroscientists"
   ]
  },
  {
   "cell_type": "code",
   "execution_count": 10,
   "id": "639530a8",
   "metadata": {},
   "outputs": [
    {
     "name": "stdout",
     "output_type": "stream",
     "text": [
      "I appreciate Enton's efforts to learn neuroscience.\n",
      "I appreciate Sendryn's efforts to learn neuroscience.\n"
     ]
    }
   ],
   "source": [
    "names = [\"Enton\", \"Sendryn\"]\n",
    "\n",
    "for name in names:\n",
    "    print(f\"I appreciate {name}'s efforts to learn neuroscience.\")"
   ]
  },
  {
   "cell_type": "code",
   "execution_count": 13,
   "id": "4fc49e6c",
   "metadata": {},
   "outputs": [
    {
     "data": {
      "text/plain": [
       "[2, 3, 4]"
      ]
     },
     "execution_count": 13,
     "metadata": {},
     "output_type": "execute_result"
    }
   ],
   "source": [
    "liste = list(range(2,5))\n",
    "liste"
   ]
  },
  {
   "cell_type": "code",
   "execution_count": null,
   "id": "6b4b61b4",
   "metadata": {},
   "outputs": [],
   "source": []
  }
 ],
 "metadata": {
  "kernelspec": {
   "display_name": "Python 3",
   "language": "python",
   "name": "python3"
  },
  "language_info": {
   "codemirror_mode": {
    "name": "ipython",
    "version": 3
   },
   "file_extension": ".py",
   "mimetype": "text/x-python",
   "name": "python",
   "nbconvert_exporter": "python",
   "pygments_lexer": "ipython3",
   "version": "3.9.12"
  }
 },
 "nbformat": 4,
 "nbformat_minor": 5
}
