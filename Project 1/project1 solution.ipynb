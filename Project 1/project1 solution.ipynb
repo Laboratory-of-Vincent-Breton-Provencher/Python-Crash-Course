{
 "cells": [
  {
   "cell_type": "markdown",
   "metadata": {},
   "source": [
    "# Fused fiber photometry analysis\n",
    "A new system is in development with data in a new file format. In the *data.txt*, there is some data relative to an experiment done to test the detection system. The first three lines looks like this:\n",
    "```\n",
    "274122854225148,01211\n",
    "274122854342393,10131\n",
    "274122854471116,01121\n",
    "```\n",
    "Before the coma, this is the time in nanosecond since epoch time. After the coma, the first and second element correspond to the state of the LEDs (0 is OFF and 1 is ON). The last number is the state of the system, it's 1 or 0. Between the second and last number, this is the value of the detection (between 0 and 1023).\n",
    "\n",
    "Your task is to import the data, extract the data and format it in a dataframe (Pandas). This is the format wanted:\n",
    "\n",
    "|       |Time|  LED0|  LED1 | Photodiode | Slave|\n",
    "| ----------- | ----------- | ----------- | ----------- | ----------- | ----------- |\n",
    "|0 | 274122854225148    | 0    | 1       |   21     | 1|\n",
    "|1 | 274122854342393    | 1    | 0       |  13      |1|\n",
    "|2 | 274122854471116    | 0    | 1       |   12     | 1|\n",
    "\n",
    "After you imported the data, correct the time and using the method `groupby()` of Pandas, plot the value of the photodiode for each LED and the corrected fluorescent signal."
   ]
  },
  {
   "cell_type": "markdown",
   "metadata": {},
   "source": [
    "## Import the data\n",
    "What modules should you use?"
   ]
  },
  {
   "cell_type": "code",
   "execution_count": null,
   "metadata": {},
   "outputs": [],
   "source": []
  },
  {
   "cell_type": "markdown",
   "metadata": {},
   "source": [
    "## Extract the data\n",
    "Be sure to save numbers in your lists. You might want to split the data (or not) and slice things up."
   ]
  },
  {
   "cell_type": "code",
   "execution_count": null,
   "metadata": {},
   "outputs": [],
   "source": []
  },
  {
   "cell_type": "markdown",
   "metadata": {},
   "source": [
    "## Format the data\n",
    "Find the correct module and open the documentation."
   ]
  },
  {
   "cell_type": "code",
   "execution_count": null,
   "metadata": {},
   "outputs": [],
   "source": []
  },
  {
   "cell_type": "markdown",
   "metadata": {},
   "source": [
    "## Correct the data\n",
    "Would be nice to have data in seconds that start at the begining of the experiment. The method used to group the data is given."
   ]
  },
  {
   "cell_type": "code",
   "execution_count": null,
   "metadata": {},
   "outputs": [],
   "source": []
  },
  {
   "cell_type": "code",
   "execution_count": 1,
   "metadata": {},
   "outputs": [],
   "source": [
    "# df_led1, df_led0 = df.groupby([\"LED0\"])\n",
    "# df_led0 = df_led0[1]\n",
    "# df_led1 = df_led1[1]\n",
    "\n",
    "# df_led0.index = range(len(df_led0))\n",
    "# df_led1.index = range(len(df_led1))\n",
    "\n",
    "# photodiode_df = df_led0.merge(df_led1, how='left', left_index=True,\n",
    "#                               right_index=True)"
   ]
  },
  {
   "cell_type": "markdown",
   "metadata": {},
   "source": [
    "## Plot the data\n",
    "Would be great to have the z-score of my signal. I would also like to see the LED0 and LED1 traces."
   ]
  },
  {
   "cell_type": "code",
   "execution_count": null,
   "metadata": {},
   "outputs": [],
   "source": []
  }
 ],
 "metadata": {
  "kernelspec": {
   "display_name": ".venv",
   "language": "python",
   "name": "python3"
  },
  "language_info": {
   "codemirror_mode": {
    "name": "ipython",
    "version": 3
   },
   "file_extension": ".py",
   "mimetype": "text/x-python",
   "name": "python",
   "nbconvert_exporter": "python",
   "pygments_lexer": "ipython3",
   "version": "3.10.12"
  }
 },
 "nbformat": 4,
 "nbformat_minor": 2
}
