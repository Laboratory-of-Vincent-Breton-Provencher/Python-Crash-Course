{
  "nbformat": 4,
  "nbformat_minor": 0,
  "metadata": {
    "colab": {
      "provenance": [],
      "collapsed_sections": [
        "HYTRVzewYuAZ"
      ]
    },
    "kernelspec": {
      "name": "python3",
      "display_name": "Python 3"
    },
    "language_info": {
      "name": "python"
    }
  },
  "cells": [
    {
      "cell_type": "markdown",
      "source": [
        "# NeuroPy: Coding Introduction\n",
        "\n",
        "## Short introduction to Google Colab:\n",
        "\n",
        "Google Colab lets users write and execute code in python using cells. To run a cell, you can either press the *run* button or press the *ctrl* and *return* keys on your keyboard.\n",
        "\n",
        "\n",
        "\n",
        "\n"
      ],
      "metadata": {
        "id": "7KIgQkw1n_Y5"
      }
    },
    {
      "cell_type": "code",
      "execution_count": null,
      "metadata": {
        "id": "xLI6Mli6n5Ew",
        "colab": {
          "base_uri": "https://localhost:8080/"
        },
        "outputId": "3884dadb-5fba-4368-d32d-c60c2f05b9ac"
      },
      "outputs": [
        {
          "output_type": "stream",
          "name": "stdout",
          "text": [
            "Bienvenue dans Colab\n"
          ]
        }
      ],
      "source": [
        "print(\"Bienvenue dans Colab\")"
      ]
    },
    {
      "cell_type": "markdown",
      "source": [
        "It is also possible to have markdown cells (like this one), where the user can write text. This can be used to document your code. The cell format let's you execute on parts of your code at a time and can be useful in certain situations.\n",
        "\n",
        "To edit a markdown cell, simply double-tap on the cell. In a code cell, simply click on the cell.\n",
        "\n",
        "Use Hashtags (\\#) to write titles. The more hashtags you use (between 1 and 6), the smaller your section title will be.\n",
        "\n",
        "## Today's plan:\n",
        "\n",
        "1. Overview of Python environments\n",
        "2. Syntax structures\n",
        "3. Control structures\n",
        "4. Functions\n",
        "\n",
        "This notebook contains the examples shown during the workshop and the exercices for the training part. Feel free to copy this notebook and modify it as you wish!\n",
        "\n",
        "## Syntax structures\n",
        "### Variables\n",
        "\n",
        "In this examples, *pi* and *perimeter* are both variables."
      ],
      "metadata": {
        "id": "GjRxubp9mS0D"
      }
    },
    {
      "cell_type": "code",
      "source": [
        "pi = 3.1416\n",
        "perimeter = 2 * pi * 5\n",
        "print(perimeter)"
      ],
      "metadata": {
        "colab": {
          "base_uri": "https://localhost:8080/"
        },
        "id": "qnBhTEskmT2Y",
        "outputId": "969275fe-e335-4e08-c1ca-0790b7537e53"
      },
      "execution_count": null,
      "outputs": [
        {
          "output_type": "stream",
          "name": "stdout",
          "text": [
            "31.416\n"
          ]
        }
      ]
    },
    {
      "cell_type": "markdown",
      "source": [
        "### Numbers\n",
        "In this example, both *a* and *b* are variables assigned to numbers of different types."
      ],
      "metadata": {
        "id": "SPIqwqoPeUcU"
      }
    },
    {
      "cell_type": "code",
      "source": [
        "a = 3.86\n",
        "print(a, type(a))\n",
        "b = int(a)\n",
        "print(b, type(b))"
      ],
      "metadata": {
        "colab": {
          "base_uri": "https://localhost:8080/"
        },
        "id": "qdddDH8usXra",
        "outputId": "4f8ac1d1-722c-41cd-b0e1-ced61b7fffbb"
      },
      "execution_count": null,
      "outputs": [
        {
          "output_type": "stream",
          "name": "stdout",
          "text": [
            "3.86 <class 'float'>\n",
            "3 <class 'int'>\n"
          ]
        }
      ]
    },
    {
      "cell_type": "markdown",
      "source": [
        "### Arithmetic operations"
      ],
      "metadata": {
        "id": "bFLvioTiem7m"
      }
    },
    {
      "cell_type": "code",
      "source": [
        "print(\"7/4 =\", 7/4)\n",
        "print(\"7//4 = \", 7//4)\n",
        "print(\"7%4 =\", 7%4)"
      ],
      "metadata": {
        "colab": {
          "base_uri": "https://localhost:8080/"
        },
        "id": "eYlg8_YFsko1",
        "outputId": "c890e3cd-7552-4580-9310-e6790f48e504"
      },
      "execution_count": null,
      "outputs": [
        {
          "output_type": "stream",
          "name": "stdout",
          "text": [
            "7/4 = 1.75\n",
            "7//4 =  1\n",
            "7%4 = 3\n"
          ]
        }
      ]
    },
    {
      "cell_type": "markdown",
      "source": [
        "### Strings"
      ],
      "metadata": {
        "id": "lXvuAjJGet24"
      }
    },
    {
      "cell_type": "code",
      "source": [
        "print(10 * \"-\")\n",
        "print(\"-\" * 3 + \" Mouse \", \"-\" * 3)\n",
        "print(len(\"Mouse\"))"
      ],
      "metadata": {
        "colab": {
          "base_uri": "https://localhost:8080/"
        },
        "id": "M6XZyLPVtmOR",
        "outputId": "684537f1-b36e-4407-b163-a05b1b46ff92"
      },
      "execution_count": null,
      "outputs": [
        {
          "output_type": "stream",
          "name": "stdout",
          "text": [
            "----------\n",
            "--- Mouse  ---\n",
            "5\n"
          ]
        }
      ]
    },
    {
      "cell_type": "markdown",
      "source": [
        "### Index and slicing\n",
        "\n",
        "It is possible to index and slice both strings, lists, arrays and other types of structures."
      ],
      "metadata": {
        "id": "ifLED9hfe0Qx"
      }
    },
    {
      "cell_type": "code",
      "source": [
        "a = \"LocusCoeruleus\"\n",
        "print(a[1])\n",
        "print(a[3:8])\n",
        "print(a[-2:])"
      ],
      "metadata": {
        "colab": {
          "base_uri": "https://localhost:8080/"
        },
        "id": "AafrLG70wLu7",
        "outputId": "1b5ce255-b8b3-4180-be9b-7beb07ee0e5b"
      },
      "execution_count": null,
      "outputs": [
        {
          "output_type": "stream",
          "name": "stdout",
          "text": [
            "o\n",
            "usCoe\n",
            "us\n"
          ]
        }
      ]
    },
    {
      "cell_type": "markdown",
      "source": [
        "### Lists\n",
        "Lists are very powerful to store data."
      ],
      "metadata": {
        "id": "zCKkjftyfU_Z"
      }
    },
    {
      "cell_type": "code",
      "source": [
        "a = [] # This is an empty list\n",
        "b = [2, 3, \"cervo\", 5] # This is another list\n",
        "print(a, b)\n",
        "print(b[2])"
      ],
      "metadata": {
        "colab": {
          "base_uri": "https://localhost:8080/"
        },
        "id": "9Ld8Fnx9wQPQ",
        "outputId": "c96c4891-94e6-420f-c2b6-0a8130ed2bd9"
      },
      "execution_count": null,
      "outputs": [
        {
          "output_type": "stream",
          "name": "stdout",
          "text": [
            "[] [2, 3, 'cervo', 5]\n",
            "cervo\n"
          ]
        }
      ]
    },
    {
      "cell_type": "code",
      "source": [
        "a.append(\"Mouse\")\n",
        "print(a)\n",
        "print(b)\n",
        "print(len(b))"
      ],
      "metadata": {
        "colab": {
          "base_uri": "https://localhost:8080/"
        },
        "id": "Jm5ZD6KOwV4U",
        "outputId": "8864dd24-90bf-4e9b-adfd-5d26a2928296"
      },
      "execution_count": null,
      "outputs": [
        {
          "output_type": "stream",
          "name": "stdout",
          "text": [
            "['Mouse', 'Mouse']\n",
            "[2, 3, 'cervo', 5]\n",
            "4\n"
          ]
        }
      ]
    },
    {
      "cell_type": "markdown",
      "source": [
        "### Dictionary"
      ],
      "metadata": {
        "id": "5Toj99kOfnZc"
      }
    },
    {
      "cell_type": "code",
      "source": [
        "my_dict = {\"KEY\": \"value\"}\n",
        "print(my_dict)\n",
        "\n",
        "my_dict[\"neuron_types\"] = [\"VIP\", \"NDNF\"]\n",
        "print(my_dict)\n",
        "print(my_dict.values())\n",
        "print(my_dict.keys())"
      ],
      "metadata": {
        "colab": {
          "base_uri": "https://localhost:8080/"
        },
        "id": "xvy_-nfjfr7y",
        "outputId": "ebe3b586-f018-44d4-f6b2-6a859c8a4a6c"
      },
      "execution_count": null,
      "outputs": [
        {
          "output_type": "stream",
          "name": "stdout",
          "text": [
            "{'KEY': 'value'}\n",
            "{'KEY': 'value', 'neuron_types': ['VIP', 'NDNF']}\n",
            "dict_values(['value', ['VIP', 'NDNF']])\n",
            "dict_keys(['KEY', 'neuron_types'])\n"
          ]
        }
      ]
    },
    {
      "cell_type": "markdown",
      "source": [
        "## Control structures\n",
        "### for loops"
      ],
      "metadata": {
        "id": "Dm79zZKEgSZB"
      }
    },
    {
      "cell_type": "code",
      "source": [
        "names = [\"Antoine\", \"Sandrine\"]\n",
        "\n",
        "for name in names:\n",
        "   print(f\"I appreciate {name}’s efforts to teach me Python.\")"
      ],
      "metadata": {
        "colab": {
          "base_uri": "https://localhost:8080/"
        },
        "id": "gYiJtJNmfxy-",
        "outputId": "cd7d3c3a-f04d-44ee-9ff4-bb551abfe279"
      },
      "execution_count": null,
      "outputs": [
        {
          "output_type": "stream",
          "name": "stdout",
          "text": [
            "I appreciate Antoine’s efforts to teach me Python.\n",
            "I appreciate Sandrine’s efforts to teach me Python.\n"
          ]
        }
      ]
    },
    {
      "cell_type": "markdown",
      "source": [
        "### break, pass and continue statements"
      ],
      "metadata": {
        "id": "pZEeRYvXgdbs"
      }
    },
    {
      "cell_type": "code",
      "source": [
        "for num in range(2, 5):\n",
        "    if num % 2 == 0:\n",
        "        print(\"Found an even number\", num)\n",
        "        continue\n",
        "    print(\"Found an odd number\", num)"
      ],
      "metadata": {
        "id": "zEcvlqxcgcdT",
        "colab": {
          "base_uri": "https://localhost:8080/"
        },
        "outputId": "6191d0ab-497c-4208-ea3e-e21f0a0e28a0"
      },
      "execution_count": null,
      "outputs": [
        {
          "output_type": "stream",
          "name": "stdout",
          "text": [
            "Found an even number 2\n",
            "Found an odd number 3\n",
            "Found an even number 4\n"
          ]
        }
      ]
    },
    {
      "cell_type": "code",
      "source": [
        "for num in range(10):\n",
        "    print(num)\n",
        "    if num == 2:\n",
        "        break"
      ],
      "metadata": {
        "id": "k2oDRvHxghUz",
        "colab": {
          "base_uri": "https://localhost:8080/"
        },
        "outputId": "9b4241e7-e889-4093-8ebd-0f45b1af2de3"
      },
      "execution_count": null,
      "outputs": [
        {
          "output_type": "stream",
          "name": "stdout",
          "text": [
            "0\n",
            "1\n",
            "2\n"
          ]
        }
      ]
    },
    {
      "cell_type": "markdown",
      "source": [
        "## Functions"
      ],
      "metadata": {
        "id": "-X6SrKS7hHrN"
      }
    },
    {
      "cell_type": "code",
      "source": [
        "def addition(a, b):\n",
        "    return a + b\n",
        "\n",
        "print(addition(3, 5))\n",
        "print(addition(35.84, 679.73))"
      ],
      "metadata": {
        "colab": {
          "base_uri": "https://localhost:8080/"
        },
        "id": "B2WkcEx-wYp0",
        "outputId": "24a9fa3b-4493-464f-f9c5-14ca552587b5"
      },
      "execution_count": null,
      "outputs": [
        {
          "output_type": "stream",
          "name": "stdout",
          "text": [
            "8\n",
            "715.57\n"
          ]
        }
      ]
    },
    {
      "cell_type": "code",
      "source": [
        "def find_maximum(list):\n",
        "  maximum = list[0] # Assigning the maximum value to the first element of the list\n",
        "  for element in list:\n",
        "    if element > maximum:\n",
        "      maximum = element # Replacing the value of maximum if element is bigger than the actual value\n",
        "  return maximum\n",
        "\n",
        "test_list = [9,13,56,73,24,5,3,-91,53,0]\n",
        "print(find_maximum(test_list))"
      ],
      "metadata": {
        "colab": {
          "base_uri": "https://localhost:8080/"
        },
        "id": "3PxUV2BuMncR",
        "outputId": "f8b00000-88b0-4de9-bd1a-b14d5f9520aa"
      },
      "execution_count": null,
      "outputs": [
        {
          "output_type": "stream",
          "name": "stdout",
          "text": [
            "73\n"
          ]
        }
      ]
    },
    {
      "cell_type": "markdown",
      "source": [
        "# Exercices\n",
        "## 1. String, index\n",
        "Using the phrase: `\"The;zebrafish;model;is;valid;and;great\"`\n",
        "- Replace the ; with spaces\n",
        "- Isolate the word zebrafish\n"
      ],
      "metadata": {
        "id": "O4C8PiVa2suN"
      }
    },
    {
      "cell_type": "code",
      "source": [
        "original_phrase = \"The;zebrafish;model;is;valid;and;great\""
      ],
      "metadata": {
        "id": "NqdwJpRF3Pk6"
      },
      "execution_count": null,
      "outputs": []
    },
    {
      "cell_type": "code",
      "source": [
        "# TO DO"
      ],
      "metadata": {
        "id": "3zeFF-9X-JjM"
      },
      "execution_count": null,
      "outputs": []
    },
    {
      "cell_type": "markdown",
      "source": [
        "## 2. Country capitals\n",
        "\n",
        "  - Create an empty dictionary named “country_capital”.\n",
        "  - Add 4 countries and their capitals as key-value pairs.\n",
        "  - Check if the country “France” is in the dictionary.\n",
        "  - Print all the keys of the dictionary.\n",
        "  - Print all the values of the dictionary.\n"
      ],
      "metadata": {
        "id": "gCWTbs_OhmC7"
      }
    },
    {
      "cell_type": "code",
      "source": [
        "# TO DO\n"
      ],
      "metadata": {
        "id": "lX_VDi86hljp"
      },
      "execution_count": null,
      "outputs": []
    },
    {
      "cell_type": "markdown",
      "source": [
        "## 3. Conditionnal statement\n",
        "Given a number (x):\n",
        "- if x is between 1 and 50, we want to print:\n",
        "  - “The number is between 1 and 50”\n",
        "- if x is between 51 and 100, we want to print:\n",
        "  - “The number is between 51 and 100”\n",
        "- in other cases (x is not between 1 and 100), we want to print:\n",
        "\t- “The number is not between 1 and 100”"
      ],
      "metadata": {
        "id": "LnmsDCMN4oK4"
      }
    },
    {
      "cell_type": "code",
      "source": [
        "# TO DO"
      ],
      "metadata": {
        "colab": {
          "base_uri": "https://localhost:8080/"
        },
        "id": "UKFofJ-i49wL",
        "outputId": "dae5c4f0-5455-4cc1-cfe6-5cbc23667d78"
      },
      "execution_count": null,
      "outputs": [
        {
          "output_type": "stream",
          "name": "stdout",
          "text": [
            "The number is between 1 and 50\n"
          ]
        }
      ]
    },
    {
      "cell_type": "markdown",
      "source": [
        "## 4. Recap exercise\n",
        "You have this list of dna sequences:\n",
        "```\n",
        "dna_sequences = [\"ATCGA\", \"TTAAGC\", \"CGATG\"]\n",
        "```\n",
        "Create a function that calculates the ratio of guanine and cytosine in the DNA. The function must take a string as argument and return a float. You should get:\n",
        "- \"ATCGA\" = 0.4\n",
        "- \"TTAAGC\" = 0.333\n",
        "- \"CGATG\" = 0.6\n"
      ],
      "metadata": {
        "id": "n38ZpKda6H0B"
      }
    },
    {
      "cell_type": "code",
      "source": [
        "dna_sequences = [\"ATCGA\", \"TTAAGC\", \"CGATG\"]"
      ],
      "metadata": {
        "id": "bvbCXhsK9HvP"
      },
      "execution_count": null,
      "outputs": []
    },
    {
      "cell_type": "code",
      "source": [
        "# TO DO"
      ],
      "metadata": {
        "id": "WsQA3Zhf-QnK"
      },
      "execution_count": null,
      "outputs": []
    },
    {
      "cell_type": "markdown",
      "source": [
        "# Answers"
      ],
      "metadata": {
        "id": "HYTRVzewYuAZ"
      }
    },
    {
      "cell_type": "markdown",
      "source": [
        "## 1. String, index\n",
        "Using the phrase: `\"The;zebrafish;model;is;valid;and;great\"`\n",
        "- Replace the ; with spaces\n",
        "- Isolate the word zebrafish"
      ],
      "metadata": {
        "id": "agedPEUtZZ-Z"
      }
    },
    {
      "cell_type": "code",
      "source": [
        "original_phrase = \"The;zebrafish;model;is;valid;and;great\"\n",
        "replaced_str = original_phrase.replace(\";\", \" \")\n",
        "zebrafish_word = replaced_str[4:13]\n",
        "\n",
        "print(replaced_str)\n",
        "print(zebrafish_word)"
      ],
      "metadata": {
        "id": "PJmOPGmFZc1S"
      },
      "execution_count": null,
      "outputs": []
    },
    {
      "cell_type": "markdown",
      "source": [
        "## 2. Country capitals\n",
        "\n",
        "  - Create an empty dictionary named “country_capital”.\n",
        "  - Add 4 countries and their capitals as key-value pairs.\n",
        "  - Check if the country “France” is in the dictionary.\n",
        "  - Print all the keys of the dictionary.\n",
        "  - Print all the values of the dictionary.\n"
      ],
      "metadata": {
        "id": "S6nC6pUQDXXV"
      }
    },
    {
      "cell_type": "code",
      "source": [
        "country_capitals = {}\n",
        "\n",
        "country_capitals['Canada'] = 'Ottawa'\n",
        "country_capitals['United Kingdom'] = 'London'\n",
        "country_capitals['Australia'] = 'Canberra'\n",
        "country_capitals['India'] = 'New Delhi'\n",
        "\n",
        "print(country_capitals)\n",
        "print('France' in country_capitals.keys())\n",
        "print(country_capitals.keys())\n",
        "print(country_capitals.values())\n"
      ],
      "metadata": {
        "colab": {
          "base_uri": "https://localhost:8080/"
        },
        "outputId": "27268347-e96a-43b3-b950-bf84d03a42c8",
        "id": "T_OGEsuwDbf0"
      },
      "execution_count": null,
      "outputs": [
        {
          "output_type": "stream",
          "name": "stdout",
          "text": [
            "{'Canada': 'Ottawa', 'United Kingdom': 'London', 'Australia': 'Canberra', 'India': 'New Delhi'}\n",
            "False\n",
            "dict_keys(['Canada', 'United Kingdom', 'Australia', 'India'])\n",
            "dict_values(['Ottawa', 'London', 'Canberra', 'New Delhi'])\n"
          ]
        }
      ]
    },
    {
      "cell_type": "markdown",
      "source": [
        "## 3. Conditionnal statement\n",
        "Given a number (x):\n",
        "- if x is between 1 and 50, we want to print:\n",
        "  - “The number is between 1 and 50”\n",
        "- if x is between 51 and 100, we want to print:\n",
        "  - “The number is between 51 and 100”\n",
        "- in other cases (x is not between 1 and 100), we want to print:\n",
        "\t- “The number is not between 1 and 100”"
      ],
      "metadata": {
        "id": "H0D0l-XkDh20"
      }
    },
    {
      "cell_type": "code",
      "source": [
        "number_to_try = 3\n",
        "\n",
        "if number_to_try >=1 and number_to_try <= 50:\n",
        "  print(\"The number is between 1 and 50\")\n",
        "\n",
        "elif number_to_try >= 51 and number_to_try <= 100:\n",
        "  print(\"The number is between 51 and 100\")\n",
        "\n",
        "else:\n",
        "  print(\"The number is not between 1 and 100\")"
      ],
      "metadata": {
        "id": "qXwL7HYgDmXk"
      },
      "execution_count": null,
      "outputs": []
    },
    {
      "cell_type": "markdown",
      "source": [
        "## 4. Recap exercise\n",
        "You have this list of dna sequences:\n",
        "```\n",
        "dna_sequences = [\"ATCGA\", \"TTAAGC\", \"CGATG\"]\n",
        "```\n",
        "Create a function that calculates the ratio of guanine and cytosine in the DNA. The function must take a string as argument and return a float. You should get:\n",
        "- \"ATCGA\" = 0.4\n",
        "- \"TTAAGC\" = 0.333\n",
        "- \"CGATG\" = 0.6\n"
      ],
      "metadata": {
        "id": "TZFK-UJ9DpOB"
      }
    },
    {
      "cell_type": "code",
      "source": [
        "def ratio_dna(sequence):\n",
        "  \"\"\" Function that calculate the ratio of G and C in an DNA sequence.\n",
        "\n",
        "  Argument:\n",
        "    sequence (str): Sequence to analyse.\n",
        "\n",
        "  Return:\n",
        "    float: Ratio of G and C in the DNA sequence. Between 0 and 1. \"\"\"\n",
        "\n",
        "  counter = 0\n",
        "\n",
        "  for i in sequence:\n",
        "    if i == \"G\" or i == \"C\":\n",
        "      counter += 1\n",
        "\n",
        "  return counter / len(sequence)\n",
        "\n",
        "for i in dna_sequences:\n",
        "  print(f\"The ratio of guanine and cytosine in the {i} sequence is {ratio_dna(i)}.\")\n"
      ],
      "metadata": {
        "id": "4TEu8NP_6pMH"
      },
      "execution_count": null,
      "outputs": []
    }
  ]
}