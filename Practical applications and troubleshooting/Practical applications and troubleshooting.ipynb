{
  "nbformat": 4,
  "nbformat_minor": 0,
  "metadata": {
    "colab": {
      "provenance": []
    },
    "kernelspec": {
      "name": "python3",
      "display_name": "Python 3"
    },
    "language_info": {
      "name": "python"
    }
  },
  "cells": [
    {
      "cell_type": "markdown",
      "source": [
        "# NeuroPy week 2: practical applications and troubleshooting\n",
        "\n",
        "## Importing modules\n",
        "\n",
        "Modules are most often imported at the beginning of the codes, there are a few ways to import modules.\n",
        "```\n",
        "import numpy (simplest way)\n",
        "import numpy as np (import with a shortened name)\n",
        "from numpy import mean (importig only one function from module)\n",
        "```"
      ],
      "metadata": {
        "id": "dU1CFCNpchY0"
      }
    },
    {
      "cell_type": "code",
      "execution_count": null,
      "metadata": {
        "id": "sJucPs3Gca5r"
      },
      "outputs": [],
      "source": [
        "import numpy as np # importing using a shorter name\n",
        "import pandas as pd\n",
        "import matplotlib.pyplot as plt"
      ]
    },
    {
      "cell_type": "markdown",
      "source": [
        "If we wanted to use the function **max** from the **numpy** module to find the maximum value in **out_list**, we would do:"
      ],
      "metadata": {
        "id": "aoICn-68gNsn"
      }
    },
    {
      "cell_type": "code",
      "source": [
        "our_list = [7,54,32,-91,73,47]\n",
        "\n",
        "maximum = np.max(our_list)\n",
        "print(maximum)"
      ],
      "metadata": {
        "id": "B_YcMWoIfP0R",
        "colab": {
          "base_uri": "https://localhost:8080/"
        },
        "outputId": "c6e71bae-fbee-4a1f-ad16-b2be5772226f"
      },
      "execution_count": null,
      "outputs": [
        {
          "output_type": "stream",
          "name": "stdout",
          "text": [
            "73\n"
          ]
        }
      ]
    },
    {
      "cell_type": "markdown",
      "source": [
        "## Import and manipulate data\n",
        "\n",
        "### Pandas\n",
        "\n",
        "#### Creating dataframe"
      ],
      "metadata": {
        "id": "ddczBNm5H_b_"
      }
    },
    {
      "cell_type": "code",
      "source": [
        "vegetable_dictionary = {'names':['carrots', 'cucumbers', 'Turnips'], 'densities':[2,3,4], 'prices':[0.3,1.5,1], 'colors':['orange','green','beige'],'taste':['good','good','bad']}\n",
        "\n",
        "vegetable_df = pd.DataFrame(vegetable_dictionary)\n",
        "\n",
        "print(vegetable_dictionary)\n",
        "print()\n",
        "print(vegetable_df)"
      ],
      "metadata": {
        "id": "bTYTzLQgIIpY",
        "colab": {
          "base_uri": "https://localhost:8080/"
        },
        "outputId": "e8b691a7-c7a5-4a97-f7ee-9c8a3b566222"
      },
      "execution_count": null,
      "outputs": [
        {
          "output_type": "stream",
          "name": "stdout",
          "text": [
            "{'names': ['carrots', 'cucumbers', 'Turnips'], 'densities': [2, 3, 4], 'prices': [0.3, 1.5, 1], 'colors': ['orange', 'green', 'beige'], 'taste': ['good', 'good', 'bad']}\n",
            "\n",
            "       names  densities  prices  colors taste\n",
            "0    carrots          2     0.3  orange  good\n",
            "1  cucumbers          3     1.5   green  good\n",
            "2    Turnips          4     1.0   beige   bad\n"
          ]
        }
      ]
    },
    {
      "cell_type": "markdown",
      "source": [
        "#### Useful functions"
      ],
      "metadata": {
        "id": "vCiUhSn1rUDY"
      }
    },
    {
      "cell_type": "code",
      "source": [
        "print('info')\n",
        "print(vegetable_df.info())\n",
        "print()\n",
        "print('sample')\n",
        "print(vegetable_df.sample())\n",
        "print()\n",
        "print('describe')\n",
        "print(vegetable_df.describe())\n",
        "print()\n",
        "print('iloc')\n",
        "print(vegetable_df.iloc[2])"
      ],
      "metadata": {
        "colab": {
          "base_uri": "https://localhost:8080/"
        },
        "id": "MZCBgPosq9t6",
        "outputId": "63823dd7-2484-4725-d9b7-518c75bf20ff"
      },
      "execution_count": null,
      "outputs": [
        {
          "output_type": "stream",
          "name": "stdout",
          "text": [
            "info\n",
            "<class 'pandas.core.frame.DataFrame'>\n",
            "RangeIndex: 3 entries, 0 to 2\n",
            "Data columns (total 5 columns):\n",
            " #   Column     Non-Null Count  Dtype  \n",
            "---  ------     --------------  -----  \n",
            " 0   names      3 non-null      object \n",
            " 1   densities  3 non-null      int64  \n",
            " 2   prices     3 non-null      float64\n",
            " 3   colors     3 non-null      object \n",
            " 4   taste      3 non-null      object \n",
            "dtypes: float64(1), int64(1), object(3)\n",
            "memory usage: 248.0+ bytes\n",
            "None\n",
            "\n",
            "sample\n",
            "     names  densities  prices colors taste\n",
            "2  Turnips          4     1.0  beige   bad\n",
            "\n",
            "describe\n",
            "       densities    prices\n",
            "count        3.0  3.000000\n",
            "mean         3.0  0.933333\n",
            "std          1.0  0.602771\n",
            "min          2.0  0.300000\n",
            "25%          2.5  0.650000\n",
            "50%          3.0  1.000000\n",
            "75%          3.5  1.250000\n",
            "max          4.0  1.500000\n",
            "\n",
            "iloc\n",
            "names        Turnips\n",
            "densities          4\n",
            "prices           1.0\n",
            "colors         beige\n",
            "taste            bad\n",
            "Name: 2, dtype: object\n"
          ]
        }
      ]
    },
    {
      "cell_type": "markdown",
      "source": [
        "#### Grouping categories"
      ],
      "metadata": {
        "id": "J5kkjRB4sK8M"
      }
    },
    {
      "cell_type": "code",
      "source": [
        "taste = vegetable_df[['prices','taste']]\n",
        "grouped_by_taste = taste.groupby(['taste'])\n",
        "print(grouped_by_taste.mean())"
      ],
      "metadata": {
        "colab": {
          "base_uri": "https://localhost:8080/"
        },
        "id": "5M5_sVOlsKZT",
        "outputId": "2e8a4e24-8f16-4b2a-bbbc-8ea3f5dacd21"
      },
      "execution_count": null,
      "outputs": [
        {
          "output_type": "stream",
          "name": "stdout",
          "text": [
            "       prices\n",
            "taste        \n",
            "bad       1.0\n",
            "good      0.9\n"
          ]
        }
      ]
    },
    {
      "cell_type": "markdown",
      "source": [
        "### Numpy module\n",
        "\n",
        "The first step with the numpy module is to create matrices."
      ],
      "metadata": {
        "id": "vm6Xs2CaIKhV"
      }
    },
    {
      "cell_type": "code",
      "source": [
        "data = np.array([[1, 2], [3, 4], [5, 6]])\n",
        "\n",
        "print(data)"
      ],
      "metadata": {
        "id": "3GsA1caxIUjS",
        "colab": {
          "base_uri": "https://localhost:8080/"
        },
        "outputId": "5f25dc26-970d-4e94-e8e0-cba7b8b9dce7"
      },
      "execution_count": null,
      "outputs": [
        {
          "output_type": "stream",
          "name": "stdout",
          "text": [
            "[[1 2]\n",
            " [3 4]\n",
            " [5 6]]\n"
          ]
        }
      ]
    },
    {
      "cell_type": "markdown",
      "source": [
        "Like lists, it is possible to use indexing and slicing on numpy arrays."
      ],
      "metadata": {
        "id": "UiduYSVaIdvI"
      }
    },
    {
      "cell_type": "code",
      "source": [
        "print(data, data[0, 1], data[1:3], data[0:2, 0])"
      ],
      "metadata": {
        "id": "Wl3I7pqfIo0z",
        "colab": {
          "base_uri": "https://localhost:8080/"
        },
        "outputId": "0facab9c-727f-44e6-8764-8aed9351ab6e"
      },
      "execution_count": null,
      "outputs": [
        {
          "output_type": "stream",
          "name": "stdout",
          "text": [
            "[[1 2]\n",
            " [3 4]\n",
            " [5 6]] 2 [[3 4]\n",
            " [5 6]] [1 3]\n"
          ]
        }
      ]
    },
    {
      "cell_type": "markdown",
      "source": [
        "Simple functions exist in the numpy module."
      ],
      "metadata": {
        "id": "8GWe7551IttD"
      }
    },
    {
      "cell_type": "code",
      "source": [
        "print(data.max(), data.min(), data.sum())"
      ],
      "metadata": {
        "id": "QDLmT0E2Iy2t",
        "colab": {
          "base_uri": "https://localhost:8080/"
        },
        "outputId": "ea11e999-21f1-4915-ff97-bffe0f69680d"
      },
      "execution_count": null,
      "outputs": [
        {
          "output_type": "stream",
          "name": "stdout",
          "text": [
            "6 1 21\n"
          ]
        }
      ]
    },
    {
      "cell_type": "markdown",
      "source": [
        "## Visualizing data\n",
        "\n",
        "The module matplotlib.pyplot is useful for simple, quick (and more complex) data visualization in python."
      ],
      "metadata": {
        "id": "xoAPg8b-I5zt"
      }
    },
    {
      "cell_type": "code",
      "source": [
        "x = [1, 2, 3, 4, 5]\n",
        "y = [3, 5, 1, 0, -2]\n",
        "\n",
        "plt.plot(x, y)\n",
        "plt.xlabel(\"Time [Hours]\")\n",
        "plt.ylabel(\"Number of bugs in my code\")\n",
        "plt.show()"
      ],
      "metadata": {
        "id": "yWmpceJcI5FO",
        "colab": {
          "base_uri": "https://localhost:8080/",
          "height": 449
        },
        "outputId": "dc4b1ee5-0e5b-47b1-9276-77e33e481e62"
      },
      "execution_count": null,
      "outputs": [
        {
          "output_type": "display_data",
          "data": {
            "text/plain": [
              "<Figure size 640x480 with 1 Axes>"
            ],
            "image/png": "[encoded data removed]"
          },
          "metadata": {}
        }
      ]
    },
    {
      "cell_type": "markdown",
      "source": [
        "The modules lets you draw different types of plots"
      ],
      "metadata": {
        "id": "Shw9QMJeJIVk"
      }
    },
    {
      "cell_type": "code",
      "source": [
        "data = np.random.rand(10, 10)\n",
        "\n",
        "plt.imshow(data)\n",
        "plt.show()"
      ],
      "metadata": {
        "id": "2loFXMLUJQK6",
        "colab": {
          "base_uri": "https://localhost:8080/",
          "height": 430
        },
        "outputId": "77c1807f-6dbf-4d94-d323-542dfab92909"
      },
      "execution_count": null,
      "outputs": [
        {
          "output_type": "display_data",
          "data": {
            "text/plain": [
              "<Figure size 640x480 with 1 Axes>"
            ],
            "image/png": "[encoded data removed]"
          },
          "metadata": {}
        }
      ]
    },
    {
      "cell_type": "code",
      "source": [
        "plt.scatter([0, 1, 2, 3, 4, 5], [0, 1, 4, 9, 16, 25])\n",
        "plt.show()"
      ],
      "metadata": {
        "id": "LwVxJAI-JRtp",
        "colab": {
          "base_uri": "https://localhost:8080/",
          "height": 430
        },
        "outputId": "4584ba0c-db3d-4680-ce99-b8a9953055d6"
      },
      "execution_count": null,
      "outputs": [
        {
          "output_type": "display_data",
          "data": {
            "text/plain": [
              "<Figure size 640x480 with 1 Axes>"
            ],
            "image/png": "[encoded data removed]"
          },
          "metadata": {}
        }
      ]
    },
    {
      "cell_type": "markdown",
      "source": [
        "# Exercices\n",
        "\n",
        "## 1. RMS Titanic\n",
        "\n",
        "[RMS Titanic](https://en.wikipedia.org/wiki/Titanic) was a British ocean liner that sank on 15 April 1912 as a result of striking an iceberg on her maiden voyage from Southampton, England to New York City, United States. Of the estimated 2,224 passengers and crew aboard, 1,496 died, making the incident the deadliest sinking of a single ship at the time.\n",
        "\n",
        "Download the Titanic Dataset from this [link](https://github.com/Laboratory-of-Vincent-Breton-Provencher/Python-Crash-Course/tree/main). You now have in your possession all the information we have on this tragic event that now inspired a lasting legacy in popular culture. We will want to analyze and plot this dataset. One important part of this exercise is to get familiar with reading the documentation and to google properly. This exercise is inspired from the Titanic Data Analysis notebook from [Kaggle](https://www.kaggle.com/code/whitneyontheweb/titanic-data-analysis).\n",
        "\n",
        "### Loading and Exploring Data\n",
        "The first part is to load the dataset in python. In this subsection;\n",
        "- Assign the dataset to the variable `df` (for *dataframe*).\n",
        "- We want to know how many passengers we have in the dataset. Also, we are interested to know [what data we have in this dataset](https://pandas.pydata.org/docs/reference/api/pandas.DataFrame.info.html).\n",
        "\n",
        " You will need to load the dataset in your Google Colab workspace."
      ],
      "metadata": {
        "id": "w4AM9D5RS4-v"
      }
    },
    {
      "cell_type": "code",
      "source": [
        "import pandas as pd\n",
        "import matplotlib.pyplot as plt\n",
        "import random\n",
        "\n",
        "# TO DO 1: load dataset and get informations from it"
      ],
      "metadata": {
        "id": "1Na3LiwlTdg5"
      },
      "execution_count": null,
      "outputs": []
    },
    {
      "cell_type": "markdown",
      "source": [
        "The total number of passengers that were on the Titanic when it sank was 2,224, so the sample we're analyzing is representative of roughly 40% of the actual population on board.\n",
        "\n",
        "To show you what type of data and get to know the people on the steamship, find how to use the `sample()` method of pandas. This passenger will be your passenger. Did you survive?"
      ],
      "metadata": {
        "id": "lvn_Gf2cUO-o"
      }
    },
    {
      "cell_type": "code",
      "source": [
        "# TO DO 2: Get data from one passenger and determine whether or not they survived"
      ],
      "metadata": {
        "id": "cEVe9zFEV_Lc"
      },
      "execution_count": null,
      "outputs": []
    },
    {
      "cell_type": "markdown",
      "source": [
        "### Demographics\n",
        "We want more information relative to the passenger. It will be extremely beneficial to gain an understanding of the statistical breakdown of each numerical column. Luckily, Pandas has the `.describe()` function for doing simple descriptive statistics."
      ],
      "metadata": {
        "id": "NTbgSEBhetgM"
      }
    },
    {
      "cell_type": "code",
      "source": [
        "# TO DO 3: use the describe function to print statistics on the dataframe"
      ],
      "metadata": {
        "id": "prU4lf-LBCs8"
      },
      "execution_count": null,
      "outputs": []
    },
    {
      "cell_type": "markdown",
      "source": [
        "Immediately we can see some interesting numbers here, let's break down the most important ones:\n",
        "\n",
        "- Survived: Survival is a binary option, 0 for no and 1 for yes\n",
        "  - Mean gives us the proportion of passengers in the sample that survived (and the answer to question 1), .383838, or roughly 38% of the sample survived.\n",
        "- Age: Number representing the age of each passenger, as we can see in titanic_df.tail(), some passengers have NaN for their age\n",
        "  - Count shows that 714 passengers in the sample have a recorded age.\n",
        "  - Of those 714 passengers, Min shows the youngest passenger was about 5 months old, and Max shows the oldest was 80 years old, and Mean shows the average age of passengers on board was just under 30 years old.\n",
        "- Fare: amount paid for the ticket by each passenger\n",
        "  - Min shows us the lowest fare paid was 0\n",
        "  - Max shows the highest fare paid was 512.40.\n",
        "  - Mean show the average fare paid by passengers was about 32.20.\n",
        "\n",
        "  ### Analysis\n",
        "\n",
        "  #### Women and children first\n",
        "The [*Birkenhead* drill](https://en.wikipedia.org/wiki/Women_and_children_first) is an unofficial code of conduct whereby the lives of women and children were to be saved first in a life-threatening situation.\n",
        "\n",
        "We'll do a small and sloppy analysis by checking if the proportion of women vs men and the proportion of children vs adults who survived respects the Birkenhead drill. First, let's look at the sex differences.\n",
        "- Select in your `df` the `Sex` and `Survived` columns.\n",
        "- Use the `.groupby()` method from Pandas to group them by their sex.\n",
        "- To obtain the statistic, apply the `.mean()` method to the previous result `print(grouped_sex.mean())`."
      ],
      "metadata": {
        "id": "cp-u9GskBRVd"
      }
    },
    {
      "cell_type": "code",
      "source": [
        "# TO DO 4: get stastics on the survival of passengers according to wether they were a man or a woman"
      ],
      "metadata": {
        "id": "ie1pTLkNB9PP"
      },
      "execution_count": null,
      "outputs": []
    },
    {
      "cell_type": "markdown",
      "source": [
        "This table shows us the percentage of females that survived, and the percentage of males that survived. The female survival rate was 74.2%, and the male survival rate was 18.9%. The huge gap between these numbers is an immediate indication that the female survival rate on the Titanic was significantly higher than the male survival rate, and being a woman did in fact increase your chances of survival.\n",
        "\n",
        "Secondly, we need to check the proportion of children vs adults who survived. Since age spans a wide range, grouping passengers out by individual age values would make visualizing the survival rate by age in a table very difficult. Instead, it is more appropriate to use a histogram with bins that group passengers in buckets of age. By doing this, it will be much easier to visualize patterns in the relationship between age and survival.\n",
        "\n",
        "You can follow the same structure as the previous section. Because this is slightly more complicated, we are going to give you a little bit of help.\n",
        "```\n",
        "age_and_survival = df[TODO]\n",
        "dead, alive = age_and_survival.groupby(TODO)\n",
        "dead, alive = dead[1], alive[1]\n",
        "```\n",
        "Use the `dead` and `alive` variable for the plot. We want 30 `bins` in the histogram and a title with axis labels.\n",
        "\n"
      ],
      "metadata": {
        "id": "FVmJOpsYCWOq"
      }
    },
    {
      "cell_type": "code",
      "source": [
        "# TO DO 5:complete the code below by substituting the TODOs and plotting a histogram\n",
        "age_and_survival = df[TODO]\n",
        "dead, alive = age_and_survival.groupby(TODO)\n",
        "dead, alive = dead[1], alive[1]"
      ],
      "metadata": {
        "id": "Hcmn6_zyGzLr",
        "colab": {
          "base_uri": "https://localhost:8080/",
          "height": 193
        },
        "outputId": "513017bf-6454-4071-94ac-418ced31f3d2"
      },
      "execution_count": null,
      "outputs": [
        {
          "output_type": "error",
          "ename": "NameError",
          "evalue": "name 'df' is not defined",
          "traceback": [
            "\u001b[0;31m---------------------------------------------------------------------------\u001b[0m",
            "\u001b[0;31mNameError\u001b[0m                                 Traceback (most recent call last)",
            "\u001b[0;32m<ipython-input-16-a5bf2f18e7e4>\u001b[0m in \u001b[0;36m<cell line: 2>\u001b[0;34m()\u001b[0m\n\u001b[1;32m      1\u001b[0m \u001b[0;31m# TO DO 5:complete the code below by substituting the TODOs and plotting a histogram\u001b[0m\u001b[0;34m\u001b[0m\u001b[0;34m\u001b[0m\u001b[0m\n\u001b[0;32m----> 2\u001b[0;31m \u001b[0mage_and_survival\u001b[0m \u001b[0;34m=\u001b[0m \u001b[0mdf\u001b[0m\u001b[0;34m[\u001b[0m\u001b[0mTODO\u001b[0m\u001b[0;34m]\u001b[0m\u001b[0;34m\u001b[0m\u001b[0;34m\u001b[0m\u001b[0m\n\u001b[0m\u001b[1;32m      3\u001b[0m \u001b[0mdead\u001b[0m\u001b[0;34m,\u001b[0m \u001b[0malive\u001b[0m \u001b[0;34m=\u001b[0m \u001b[0mage_and_survival\u001b[0m\u001b[0;34m.\u001b[0m\u001b[0mgroupby\u001b[0m\u001b[0;34m(\u001b[0m\u001b[0mTODO\u001b[0m\u001b[0;34m)\u001b[0m\u001b[0;34m\u001b[0m\u001b[0;34m\u001b[0m\u001b[0m\n\u001b[1;32m      4\u001b[0m \u001b[0mdead\u001b[0m\u001b[0;34m,\u001b[0m \u001b[0malive\u001b[0m \u001b[0;34m=\u001b[0m \u001b[0mdead\u001b[0m\u001b[0;34m[\u001b[0m\u001b[0;36m1\u001b[0m\u001b[0;34m]\u001b[0m\u001b[0;34m,\u001b[0m \u001b[0malive\u001b[0m\u001b[0;34m[\u001b[0m\u001b[0;36m1\u001b[0m\u001b[0;34m]\u001b[0m\u001b[0;34m\u001b[0m\u001b[0;34m\u001b[0m\u001b[0m\n",
            "\u001b[0;31mNameError\u001b[0m: name 'df' is not defined"
          ]
        }
      ]
    },
    {
      "cell_type": "markdown",
      "source": [
        "We can see that children under the age of 5 had a high survival rate. Additionally, we can see the vast majority of passengers that died were between 20-35 years old. Considering this is the expectation for the majority age range on board, this isn't much of a surprise.\n",
        "\n",
        "We can conclude from this fast analysis that yes, **the *Birkenhead* Drill was respected**.\n"
      ],
      "metadata": {
        "id": "nR4gs7ihGyKg"
      }
    },
    {
      "cell_type": "markdown",
      "source": [
        "## 2. Jurassic Park\n",
        "\n",
        "Dinosaurs are cool. Those lizards were once the kings of our planet. We have been able to extract some features of the dinosaurs lives from the fossils, such as their lenght and diet.\n",
        "\n",
        "There are hundreds of dinosaurs. Here, we'll work on a small dataset containing only 309 entries. Download the dataset from this [link](https://github.com/Laboratory-of-Vincent-Breton-Provencher/Python-Crash-Course). The dataset is taken from the National History Museum's website to combine the available information in one place."
      ],
      "metadata": {
        "id": "KkIEn8Z-KNwK"
      }
    },
    {
      "cell_type": "code",
      "source": [
        "import pandas as pd\n",
        "import matplotlib.pyplot as plt"
      ],
      "metadata": {
        "id": "ebN7oig272iu"
      },
      "execution_count": null,
      "outputs": []
    },
    {
      "cell_type": "markdown",
      "source": [
        "We want to start by [loading the dataset](https://pandas.pydata.org/pandas-docs/stable/reference/api/pandas.read_csv.html) and get its [basic information](https://pandas.pydata.org/docs/reference/api/pandas.DataFrame.info.html). Use the documentation available online. Don't forget to upload the dataset to your folder section in the Colab."
      ],
      "metadata": {
        "id": "3ttOmYXtL3Om"
      }
    },
    {
      "cell_type": "code",
      "source": [
        "# TO DO 1: load data set from CSV"
      ],
      "metadata": {
        "id": "ViuodrokMS_q"
      },
      "execution_count": null,
      "outputs": []
    },
    {
      "cell_type": "markdown",
      "source": [
        "To visualize the data, get a sample from this dataframe and look at the way the information is presented."
      ],
      "metadata": {
        "id": "J8gpZy2pMfQl"
      }
    },
    {
      "cell_type": "code",
      "source": [
        "# TO DO 2: get sample from dataset"
      ],
      "metadata": {
        "id": "qhCFW92XNDBY"
      },
      "execution_count": null,
      "outputs": []
    },
    {
      "cell_type": "markdown",
      "source": [
        "### Dino length\n",
        "We are interested in the length of those giant lizards. With your knowledge from the previous exercise, your first task is to plot a histogram of the length of those dinosaurs.\n",
        "\n",
        "You will encounter an error if you try `plt.hist(df[\"length])`. **Try it for yourself**, because your job is to understand why you have this error and come up with a solution.\n",
        "\n",
        "Note: There are multiple solutions but an efficient one would require you to correct directly the `df`. Depending on the solution you chose, there will be some trade offs."
      ],
      "metadata": {
        "id": "hAJXlQXkNdki"
      }
    },
    {
      "cell_type": "code",
      "source": [
        "# TO DO 3"
      ],
      "metadata": {
        "id": "Hk95qE85OTwD"
      },
      "execution_count": null,
      "outputs": []
    },
    {
      "cell_type": "markdown",
      "source": [
        "Now that you solved your problem, we are now ready to move a bit further. For example, I am interested in the longest dinosaur in this list. Here are some tips:\n",
        "- Sort the `df` based on the length\n",
        "- You might want to consider the `NaN`. Depending on your method, it may affect your results. Read the documentation of the function you use for sorting the `length` column, you might have an easy solution.\n",
        "\n",
        "With the right keywords in your search engine, you should be able to find the appropriate documentation."
      ],
      "metadata": {
        "id": "XXeZLNHYOgCO"
      }
    },
    {
      "cell_type": "code",
      "source": [
        "# TO DO 4: find the longest dinosaur in the list and its name"
      ],
      "metadata": {
        "id": "PHuUmErQO1Ka"
      },
      "execution_count": null,
      "outputs": []
    },
    {
      "cell_type": "markdown",
      "source": [
        "### Diet\n",
        "I'm also interested in the diet of all of the dinosaurs. What diet is predominant in our dataset? Plot a histogram of all the diet. Add `xlabel` and `ylabel` to your plot.\n"
      ],
      "metadata": {
        "id": "hdi5cFGKPYYP"
      }
    },
    {
      "cell_type": "code",
      "source": [
        "# TO DO 5: plot a histogram of the diet of all dinosaurs"
      ],
      "metadata": {
        "id": "iryePwsMPhkC"
      },
      "execution_count": null,
      "outputs": []
    },
    {
      "cell_type": "markdown",
      "source": [
        "I'm now interested in only the herbivorous, carnivorous and omnivorous diet. I would like to do a box plot based on the length. Are herbivorous dinosaurs longer than the carnivorous? And how does the omnivorous dinos fit in this?\n",
        "\n",
        "This is a more complex exercise, here are some tips. You will want to select the `diet` and `length` columns and group them by their `diet`. You'll want to put this sequence of code in a list before you assign it just like that:\n",
        "```\n",
        "variable = list(sequence_of_code_you_wrote)\n",
        "```\n",
        "After, you'll be able to use some slicing to select the correct diet (always validate with the `print()` function). One important thing to do is to remove the dinosaurs that we have no information (`NaN`). For this, use the [dropna()](https://pandas.pydata.org/docs/reference/api/pandas.DataFrame.dropna.html) method from pandas before grouping them by their diet."
      ],
      "metadata": {
        "id": "eYj0cKIMPq5r"
      }
    },
    {
      "cell_type": "code",
      "source": [
        "# TO DO 6"
      ],
      "metadata": {
        "id": "zmU0EP1TQbK3"
      },
      "execution_count": null,
      "outputs": []
    },
    {
      "cell_type": "markdown",
      "source": [
        "### Congrats! You've made it to the end of the extra-super-hard exercices for the second crash-course!!"
      ],
      "metadata": {
        "id": "y9pH39xIR6BL"
      }
    },
    {
      "cell_type": "markdown",
      "source": [
        "# Solutions\n",
        "\n",
        "## RMS Titanic\n",
        "\n",
        "Step 1: loading dataset"
      ],
      "metadata": {
        "id": "uvxt7_t_Su2e"
      }
    },
    {
      "cell_type": "code",
      "source": [
        "# TO DO 1\n",
        "df = pd.read_csv(\"/content/titanic_dataset.csv\")\n",
        "\n",
        "print(df.info())"
      ],
      "metadata": {
        "id": "6un0ZddQUFDv",
        "colab": {
          "base_uri": "https://localhost:8080/"
        },
        "outputId": "5af67b24-e9d6-4b20-e04b-895fb48f8ae3"
      },
      "execution_count": null,
      "outputs": [
        {
          "output_type": "stream",
          "name": "stdout",
          "text": [
            "<class 'pandas.core.frame.DataFrame'>\n",
            "RangeIndex: 891 entries, 0 to 890\n",
            "Data columns (total 12 columns):\n",
            " #   Column       Non-Null Count  Dtype  \n",
            "---  ------       --------------  -----  \n",
            " 0   PassengerId  891 non-null    int64  \n",
            " 1   Survived     891 non-null    int64  \n",
            " 2   Pclass       891 non-null    int64  \n",
            " 3   Name         891 non-null    object \n",
            " 4   Sex          891 non-null    object \n",
            " 5   Age          714 non-null    float64\n",
            " 6   SibSp        891 non-null    int64  \n",
            " 7   Parch        891 non-null    int64  \n",
            " 8   Ticket       891 non-null    object \n",
            " 9   Fare         891 non-null    float64\n",
            " 10  Cabin        204 non-null    object \n",
            " 11  Embarked     889 non-null    object \n",
            "dtypes: float64(2), int64(5), object(5)\n",
            "memory usage: 83.7+ KB\n",
            "None\n"
          ]
        }
      ]
    },
    {
      "cell_type": "code",
      "source": [
        "# TO DO 2\n",
        "\n",
        "print(df.sample())"
      ],
      "metadata": {
        "id": "0Tuo7Y7-ejwW"
      },
      "execution_count": null,
      "outputs": []
    },
    {
      "cell_type": "markdown",
      "source": [
        "Step 2: demographics"
      ],
      "metadata": {
        "id": "FD9t5JBZUHVg"
      }
    },
    {
      "cell_type": "code",
      "source": [
        "# TO DO 3\n",
        "df.describe()"
      ],
      "metadata": {
        "id": "W-Cst7oSChzU",
        "colab": {
          "base_uri": "https://localhost:8080/",
          "height": 300
        },
        "outputId": "3030b8be-5f0d-428f-812a-0dadfc3c7d9e"
      },
      "execution_count": null,
      "outputs": [
        {
          "output_type": "execute_result",
          "data": {
            "text/plain": [
              "       PassengerId    Survived      Pclass         Age       SibSp  \\\n",
              "count   891.000000  891.000000  891.000000  714.000000  891.000000   \n",
              "mean    446.000000    0.383838    2.308642   29.699118    0.523008   \n",
              "std     257.353842    0.486592    0.836071   14.526497    1.102743   \n",
              "min       1.000000    0.000000    1.000000    0.420000    0.000000   \n",
              "25%     223.500000    0.000000    2.000000   20.125000    0.000000   \n",
              "50%     446.000000    0.000000    3.000000   28.000000    0.000000   \n",
              "75%     668.500000    1.000000    3.000000   38.000000    1.000000   \n",
              "max     891.000000    1.000000    3.000000   80.000000    8.000000   \n",
              "\n",
              "            Parch        Fare  \n",
              "count  891.000000  891.000000  \n",
              "mean     0.381594   32.204208  \n",
              "std      0.806057   49.693429  \n",
              "min      0.000000    0.000000  \n",
              "25%      0.000000    7.910400  \n",
              "50%      0.000000   14.454200  \n",
              "75%      0.000000   31.000000  \n",
              "max      6.000000  512.329200  "
            ],
            "text/html": [
              "\n",
              "  <div id=\"df-85241504-658a-493c-83f0-e52869f3d41b\" class=\"colab-df-container\">\n",
              "    <div>\n",
              "<style scoped>\n",
              "    .dataframe tbody tr th:only-of-type {\n",
              "        vertical-align: middle;\n",
              "    }\n",
              "\n",
              "    .dataframe tbody tr th {\n",
              "        vertical-align: top;\n",
              "    }\n",
              "\n",
              "    .dataframe thead th {\n",
              "        text-align: right;\n",
              "    }\n",
              "</style>\n",
              "<table border=\"1\" class=\"dataframe\">\n",
              "  <thead>\n",
              "    <tr style=\"text-align: right;\">\n",
              "      <th></th>\n",
              "      <th>PassengerId</th>\n",
              "      <th>Survived</th>\n",
              "      <th>Pclass</th>\n",
              "      <th>Age</th>\n",
              "      <th>SibSp</th>\n",
              "      <th>Parch</th>\n",
              "      <th>Fare</th>\n",
              "    </tr>\n",
              "  </thead>\n",
              "  <tbody>\n",
              "    <tr>\n",
              "      <th>count</th>\n",
              "      <td>891.000000</td>\n",
              "      <td>891.000000</td>\n",
              "      <td>891.000000</td>\n",
              "      <td>714.000000</td>\n",
              "      <td>891.000000</td>\n",
              "      <td>891.000000</td>\n",
              "      <td>891.000000</td>\n",
              "    </tr>\n",
              "    <tr>\n",
              "      <th>mean</th>\n",
              "      <td>446.000000</td>\n",
              "      <td>0.383838</td>\n",
              "      <td>2.308642</td>\n",
              "      <td>29.699118</td>\n",
              "      <td>0.523008</td>\n",
              "      <td>0.381594</td>\n",
              "      <td>32.204208</td>\n",
              "    </tr>\n",
              "    <tr>\n",
              "      <th>std</th>\n",
              "      <td>257.353842</td>\n",
              "      <td>0.486592</td>\n",
              "      <td>0.836071</td>\n",
              "      <td>14.526497</td>\n",
              "      <td>1.102743</td>\n",
              "      <td>0.806057</td>\n",
              "      <td>49.693429</td>\n",
              "    </tr>\n",
              "    <tr>\n",
              "      <th>min</th>\n",
              "      <td>1.000000</td>\n",
              "      <td>0.000000</td>\n",
              "      <td>1.000000</td>\n",
              "      <td>0.420000</td>\n",
              "      <td>0.000000</td>\n",
              "      <td>0.000000</td>\n",
              "      <td>0.000000</td>\n",
              "    </tr>\n",
              "    <tr>\n",
              "      <th>25%</th>\n",
              "      <td>223.500000</td>\n",
              "      <td>0.000000</td>\n",
              "      <td>2.000000</td>\n",
              "      <td>20.125000</td>\n",
              "      <td>0.000000</td>\n",
              "      <td>0.000000</td>\n",
              "      <td>7.910400</td>\n",
              "    </tr>\n",
              "    <tr>\n",
              "      <th>50%</th>\n",
              "      <td>446.000000</td>\n",
              "      <td>0.000000</td>\n",
              "      <td>3.000000</td>\n",
              "      <td>28.000000</td>\n",
              "      <td>0.000000</td>\n",
              "      <td>0.000000</td>\n",
              "      <td>14.454200</td>\n",
              "    </tr>\n",
              "    <tr>\n",
              "      <th>75%</th>\n",
              "      <td>668.500000</td>\n",
              "      <td>1.000000</td>\n",
              "      <td>3.000000</td>\n",
              "      <td>38.000000</td>\n",
              "      <td>1.000000</td>\n",
              "      <td>0.000000</td>\n",
              "      <td>31.000000</td>\n",
              "    </tr>\n",
              "    <tr>\n",
              "      <th>max</th>\n",
              "      <td>891.000000</td>\n",
              "      <td>1.000000</td>\n",
              "      <td>3.000000</td>\n",
              "      <td>80.000000</td>\n",
              "      <td>8.000000</td>\n",
              "      <td>6.000000</td>\n",
              "      <td>512.329200</td>\n",
              "    </tr>\n",
              "  </tbody>\n",
              "</table>\n",
              "</div>\n",
              "    <div class=\"colab-df-buttons\">\n",
              "\n",
              "  <div class=\"colab-df-container\">\n",
              "    <button class=\"colab-df-convert\" onclick=\"convertToInteractive('df-85241504-658a-493c-83f0-e52869f3d41b')\"\n",
              "            title=\"Convert this dataframe to an interactive table.\"\n",
              "            style=\"display:none;\">\n",
              "\n",
              "  <svg xmlns=\"http://www.w3.org/2000/svg\" height=\"24px\" viewBox=\"0 -960 960 960\">\n",
              "    <path d=\"M120-120v-720h720v720H120Zm60-500h600v-160H180v160Zm220 220h160v-160H400v160Zm0 220h160v-160H400v160ZM180-400h160v-160H180v160Zm440 0h160v-160H620v160ZM180-180h160v-160H180v160Zm440 0h160v-160H620v160Z\"/>\n",
              "  </svg>\n",
              "    </button>\n",
              "\n",
              "  <style>\n",
              "    .colab-df-container {\n",
              "      display:flex;\n",
              "      gap: 12px;\n",
              "    }\n",
              "\n",
              "    .colab-df-convert {\n",
              "      background-color: #E8F0FE;\n",
              "      border: none;\n",
              "      border-radius: 50%;\n",
              "      cursor: pointer;\n",
              "      display: none;\n",
              "      fill: #1967D2;\n",
              "      height: 32px;\n",
              "      padding: 0 0 0 0;\n",
              "      width: 32px;\n",
              "    }\n",
              "\n",
              "    .colab-df-convert:hover {\n",
              "      background-color: #E2EBFA;\n",
              "      box-shadow: 0px 1px 2px rgba(60, 64, 67, 0.3), 0px 1px 3px 1px rgba(60, 64, 67, 0.15);\n",
              "      fill: #174EA6;\n",
              "    }\n",
              "\n",
              "    .colab-df-buttons div {\n",
              "      margin-bottom: 4px;\n",
              "    }\n",
              "\n",
              "    [theme=dark] .colab-df-convert {\n",
              "      background-color: #3B4455;\n",
              "      fill: #D2E3FC;\n",
              "    }\n",
              "\n",
              "    [theme=dark] .colab-df-convert:hover {\n",
              "      background-color: #434B5C;\n",
              "      box-shadow: 0px 1px 3px 1px rgba(0, 0, 0, 0.15);\n",
              "      filter: drop-shadow(0px 1px 2px rgba(0, 0, 0, 0.3));\n",
              "      fill: #FFFFFF;\n",
              "    }\n",
              "  </style>\n",
              "\n",
              "    <script>\n",
              "      const buttonEl =\n",
              "        document.querySelector('#df-85241504-658a-493c-83f0-e52869f3d41b button.colab-df-convert');\n",
              "      buttonEl.style.display =\n",
              "        google.colab.kernel.accessAllowed ? 'block' : 'none';\n",
              "\n",
              "      async function convertToInteractive(key) {\n",
              "        const element = document.querySelector('#df-85241504-658a-493c-83f0-e52869f3d41b');\n",
              "        const dataTable =\n",
              "          await google.colab.kernel.invokeFunction('convertToInteractive',\n",
              "                                                    [key], {});\n",
              "        if (!dataTable) return;\n",
              "\n",
              "        const docLinkHtml = 'Like what you see? Visit the ' +\n",
              "          '<a target=\"_blank\" href=https://colab.research.google.com/notebooks/data_table.ipynb>data table notebook</a>'\n",
              "          + ' to learn more about interactive tables.';\n",
              "        element.innerHTML = '';\n",
              "        dataTable['output_type'] = 'display_data';\n",
              "        await google.colab.output.renderOutput(dataTable, element);\n",
              "        const docLink = document.createElement('div');\n",
              "        docLink.innerHTML = docLinkHtml;\n",
              "        element.appendChild(docLink);\n",
              "      }\n",
              "    </script>\n",
              "  </div>\n",
              "\n",
              "\n",
              "<div id=\"df-c032e389-2ea3-49c0-8cc4-51c690262ceb\">\n",
              "  <button class=\"colab-df-quickchart\" onclick=\"quickchart('df-c032e389-2ea3-49c0-8cc4-51c690262ceb')\"\n",
              "            title=\"Suggest charts\"\n",
              "            style=\"display:none;\">\n",
              "\n",
              "<svg xmlns=\"http://www.w3.org/2000/svg\" height=\"24px\"viewBox=\"0 0 24 24\"\n",
              "     width=\"24px\">\n",
              "    <g>\n",
              "        <path d=\"M19 3H5c-1.1 0-2 .9-2 2v14c0 1.1.9 2 2 2h14c1.1 0 2-.9 2-2V5c0-1.1-.9-2-2-2zM9 17H7v-7h2v7zm4 0h-2V7h2v10zm4 0h-2v-4h2v4z\"/>\n",
              "    </g>\n",
              "</svg>\n",
              "  </button>\n",
              "\n",
              "<style>\n",
              "  .colab-df-quickchart {\n",
              "      --bg-color: #E8F0FE;\n",
              "      --fill-color: #1967D2;\n",
              "      --hover-bg-color: #E2EBFA;\n",
              "      --hover-fill-color: #174EA6;\n",
              "      --disabled-fill-color: #AAA;\n",
              "      --disabled-bg-color: #DDD;\n",
              "  }\n",
              "\n",
              "  [theme=dark] .colab-df-quickchart {\n",
              "      --bg-color: #3B4455;\n",
              "      --fill-color: #D2E3FC;\n",
              "      --hover-bg-color: #434B5C;\n",
              "      --hover-fill-color: #FFFFFF;\n",
              "      --disabled-bg-color: #3B4455;\n",
              "      --disabled-fill-color: #666;\n",
              "  }\n",
              "\n",
              "  .colab-df-quickchart {\n",
              "    background-color: var(--bg-color);\n",
              "    border: none;\n",
              "    border-radius: 50%;\n",
              "    cursor: pointer;\n",
              "    display: none;\n",
              "    fill: var(--fill-color);\n",
              "    height: 32px;\n",
              "    padding: 0;\n",
              "    width: 32px;\n",
              "  }\n",
              "\n",
              "  .colab-df-quickchart:hover {\n",
              "    background-color: var(--hover-bg-color);\n",
              "    box-shadow: 0 1px 2px rgba(60, 64, 67, 0.3), 0 1px 3px 1px rgba(60, 64, 67, 0.15);\n",
              "    fill: var(--button-hover-fill-color);\n",
              "  }\n",
              "\n",
              "  .colab-df-quickchart-complete:disabled,\n",
              "  .colab-df-quickchart-complete:disabled:hover {\n",
              "    background-color: var(--disabled-bg-color);\n",
              "    fill: var(--disabled-fill-color);\n",
              "    box-shadow: none;\n",
              "  }\n",
              "\n",
              "  .colab-df-spinner {\n",
              "    border: 2px solid var(--fill-color);\n",
              "    border-color: transparent;\n",
              "    border-bottom-color: var(--fill-color);\n",
              "    animation:\n",
              "      spin 1s steps(1) infinite;\n",
              "  }\n",
              "\n",
              "  @keyframes spin {\n",
              "    0% {\n",
              "      border-color: transparent;\n",
              "      border-bottom-color: var(--fill-color);\n",
              "      border-left-color: var(--fill-color);\n",
              "    }\n",
              "    20% {\n",
              "      border-color: transparent;\n",
              "      border-left-color: var(--fill-color);\n",
              "      border-top-color: var(--fill-color);\n",
              "    }\n",
              "    30% {\n",
              "      border-color: transparent;\n",
              "      border-left-color: var(--fill-color);\n",
              "      border-top-color: var(--fill-color);\n",
              "      border-right-color: var(--fill-color);\n",
              "    }\n",
              "    40% {\n",
              "      border-color: transparent;\n",
              "      border-right-color: var(--fill-color);\n",
              "      border-top-color: var(--fill-color);\n",
              "    }\n",
              "    60% {\n",
              "      border-color: transparent;\n",
              "      border-right-color: var(--fill-color);\n",
              "    }\n",
              "    80% {\n",
              "      border-color: transparent;\n",
              "      border-right-color: var(--fill-color);\n",
              "      border-bottom-color: var(--fill-color);\n",
              "    }\n",
              "    90% {\n",
              "      border-color: transparent;\n",
              "      border-bottom-color: var(--fill-color);\n",
              "    }\n",
              "  }\n",
              "</style>\n",
              "\n",
              "  <script>\n",
              "    async function quickchart(key) {\n",
              "      const quickchartButtonEl =\n",
              "        document.querySelector('#' + key + ' button');\n",
              "      quickchartButtonEl.disabled = true;  // To prevent multiple clicks.\n",
              "      quickchartButtonEl.classList.add('colab-df-spinner');\n",
              "      try {\n",
              "        const charts = await google.colab.kernel.invokeFunction(\n",
              "            'suggestCharts', [key], {});\n",
              "      } catch (error) {\n",
              "        console.error('Error during call to suggestCharts:', error);\n",
              "      }\n",
              "      quickchartButtonEl.classList.remove('colab-df-spinner');\n",
              "      quickchartButtonEl.classList.add('colab-df-quickchart-complete');\n",
              "    }\n",
              "    (() => {\n",
              "      let quickchartButtonEl =\n",
              "        document.querySelector('#df-c032e389-2ea3-49c0-8cc4-51c690262ceb button');\n",
              "      quickchartButtonEl.style.display =\n",
              "        google.colab.kernel.accessAllowed ? 'block' : 'none';\n",
              "    })();\n",
              "  </script>\n",
              "</div>\n",
              "\n",
              "    </div>\n",
              "  </div>\n"
            ],
            "application/vnd.google.colaboratory.intrinsic+json": {
              "type": "dataframe",
              "summary": "{\n  \"name\": \"df\",\n  \"rows\": 8,\n  \"fields\": [\n    {\n      \"column\": \"PassengerId\",\n      \"properties\": {\n        \"dtype\": \"number\",\n        \"std\": 320.8159711429855,\n        \"min\": 1.0,\n        \"max\": 891.0,\n        \"num_unique_values\": 6,\n        \"samples\": [\n          891.0,\n          446.0,\n          668.5\n        ],\n        \"semantic_type\": \"\",\n        \"description\": \"\"\n      }\n    },\n    {\n      \"column\": \"Survived\",\n      \"properties\": {\n        \"dtype\": \"number\",\n        \"std\": 314.8713661874558,\n        \"min\": 0.0,\n        \"max\": 891.0,\n        \"num_unique_values\": 5,\n        \"samples\": [\n          0.3838383838383838,\n          1.0,\n          0.4865924542648575\n        ],\n        \"semantic_type\": \"\",\n        \"description\": \"\"\n      }\n    },\n    {\n      \"column\": \"Pclass\",\n      \"properties\": {\n        \"dtype\": \"number\",\n        \"std\": 314.2523437079694,\n        \"min\": 0.836071240977049,\n        \"max\": 891.0,\n        \"num_unique_values\": 6,\n        \"samples\": [\n          891.0,\n          2.308641975308642,\n          3.0\n        ],\n        \"semantic_type\": \"\",\n        \"description\": \"\"\n      }\n    },\n    {\n      \"column\": \"Age\",\n      \"properties\": {\n        \"dtype\": \"number\",\n        \"std\": 242.9056731818781,\n        \"min\": 0.42,\n        \"max\": 714.0,\n        \"num_unique_values\": 8,\n        \"samples\": [\n          29.69911764705882,\n          28.0,\n          714.0\n        ],\n        \"semantic_type\": \"\",\n        \"description\": \"\"\n      }\n    },\n    {\n      \"column\": \"SibSp\",\n      \"properties\": {\n        \"dtype\": \"number\",\n        \"std\": 314.4908277465442,\n        \"min\": 0.0,\n        \"max\": 891.0,\n        \"num_unique_values\": 6,\n        \"samples\": [\n          891.0,\n          0.5230078563411896,\n          8.0\n        ],\n        \"semantic_type\": \"\",\n        \"description\": \"\"\n      }\n    },\n    {\n      \"column\": \"Parch\",\n      \"properties\": {\n        \"dtype\": \"number\",\n        \"std\": 314.65971717879,\n        \"min\": 0.0,\n        \"max\": 891.0,\n        \"num_unique_values\": 5,\n        \"samples\": [\n          0.38159371492704824,\n          6.0,\n          0.8060572211299483\n        ],\n        \"semantic_type\": \"\",\n        \"description\": \"\"\n      }\n    },\n    {\n      \"column\": \"Fare\",\n      \"properties\": {\n        \"dtype\": \"number\",\n        \"std\": 330.6256632228578,\n        \"min\": 0.0,\n        \"max\": 891.0,\n        \"num_unique_values\": 8,\n        \"samples\": [\n          32.204207968574636,\n          14.4542,\n          891.0\n        ],\n        \"semantic_type\": \"\",\n        \"description\": \"\"\n      }\n    }\n  ]\n}"
            }
          },
          "metadata": {},
          "execution_count": 18
        }
      ]
    },
    {
      "cell_type": "markdown",
      "source": [
        "Step 3: Analysis\n",
        "\n",
        "Survival of men vs. women"
      ],
      "metadata": {
        "id": "lksRWqEYCmfj"
      }
    },
    {
      "cell_type": "code",
      "source": [
        "# TO DO 4\n",
        "selected_columns = df[[\"Sex\", \"Survived\"]]\n",
        "grouped_sex = selected_columns.groupby([\"Sex\"])\n",
        "print(grouped_sex.mean())"
      ],
      "metadata": {
        "id": "Hx6LwVioCyQl",
        "colab": {
          "base_uri": "https://localhost:8080/"
        },
        "outputId": "47a12f7b-deb5-482b-9538-8c1d88d513bc"
      },
      "execution_count": null,
      "outputs": [
        {
          "output_type": "stream",
          "name": "stdout",
          "text": [
            "        Survived\n",
            "Sex             \n",
            "female  0.742038\n",
            "male    0.188908\n"
          ]
        }
      ]
    },
    {
      "cell_type": "markdown",
      "source": [
        "Survival according to age"
      ],
      "metadata": {
        "id": "79vTKQ9IHF6W"
      }
    },
    {
      "cell_type": "code",
      "source": [
        "# TO DO 5\n",
        "age_and_survival = df[[\"Age\", \"Survived\"]]\n",
        "dead, alive = age_and_survival.groupby([\"Survived\"])\n",
        "dead, alive = dead[1], alive[1]\n",
        "\n",
        "\n",
        "plt.hist(dead[\"Age\"], bins=30)\n",
        "plt.title(\"Death\")\n",
        "plt.xlabel(\"Age\")\n",
        "plt.ylabel(\"Count\")\n",
        "plt.show()\n",
        "\n",
        "plt.title(\"Survived\")\n",
        "plt.xlabel(\"Age\")\n",
        "plt.ylabel(\"Count\")\n",
        "plt.hist(alive[\"Age\"], bins=30)\n",
        "plt.show()"
      ],
      "metadata": {
        "id": "O05ftBbWHFcb",
        "colab": {
          "base_uri": "https://localhost:8080/",
          "height": 927
        },
        "outputId": "a2b38ddb-8036-4f8f-c950-1aab398069e3"
      },
      "execution_count": null,
      "outputs": [
        {
          "output_type": "display_data",
          "data": {
            "text/plain": [
              "<Figure size 640x480 with 1 Axes>"
            ],
            "image/png": "[encoded data removed]"
          },
          "metadata": {}
        },
        {
          "output_type": "display_data",
          "data": {
            "text/plain": [
              "<Figure size 640x480 with 1 Axes>"
            ],
            "image/png": "[encoded data removed]"
          },
          "metadata": {}
        }
      ]
    },
    {
      "cell_type": "markdown",
      "source": [
        "## Jurassic Park\n",
        "\n",
        "Step 1: loading dataset"
      ],
      "metadata": {
        "id": "AVM6bfQBL66N"
      }
    },
    {
      "cell_type": "code",
      "source": [
        "# TO DO 1\n",
        "df = pd.read_csv(\"/content/dinosaur_dataset.csv\")\n",
        "print(df.info())"
      ],
      "metadata": {
        "id": "VwFtTaxoMHne",
        "colab": {
          "base_uri": "https://localhost:8080/"
        },
        "outputId": "ee159f7b-b0cd-4f11-bf31-055aabd95008"
      },
      "execution_count": null,
      "outputs": [
        {
          "output_type": "stream",
          "name": "stdout",
          "text": [
            "<class 'pandas.core.frame.DataFrame'>\n",
            "RangeIndex: 309 entries, 0 to 308\n",
            "Data columns (total 10 columns):\n",
            " #   Column    Non-Null Count  Dtype \n",
            "---  ------    --------------  ----- \n",
            " 0   name      309 non-null    object\n",
            " 1   diet      309 non-null    object\n",
            " 2   period    309 non-null    object\n",
            " 3   lived_in  308 non-null    object\n",
            " 4   type      309 non-null    object\n",
            " 5   length    291 non-null    object\n",
            " 6   taxonomy  309 non-null    object\n",
            " 7   named_by  309 non-null    object\n",
            " 8   species   304 non-null    object\n",
            " 9   link      309 non-null    object\n",
            "dtypes: object(10)\n",
            "memory usage: 24.3+ KB\n",
            "None\n"
          ]
        }
      ]
    },
    {
      "cell_type": "markdown",
      "source": [
        "Step 2: getting sample"
      ],
      "metadata": {
        "id": "XWlsAUyONVbO"
      }
    },
    {
      "cell_type": "code",
      "source": [
        "# TO DO 2\n",
        "df.sample()"
      ],
      "metadata": {
        "id": "xWtHkjlTMFgh",
        "colab": {
          "base_uri": "https://localhost:8080/",
          "height": 98
        },
        "outputId": "7cc551a3-76b8-4053-b34d-03349f6ea16a"
      },
      "execution_count": null,
      "outputs": [
        {
          "output_type": "execute_result",
          "data": {
            "text/plain": [
              "              name         diet                                   period  \\\n",
              "278  telmatosaurus  herbivorous  Late Cretaceous 84-65 million years ago   \n",
              "\n",
              "    lived_in          type length  \\\n",
              "278    Spain  euornithopod   5.0m   \n",
              "\n",
              "                                              taxonomy       named_by  \\\n",
              "278  Dinosauria Ornithischia Genasauria Cerapoda Or...  Nopcsa (1900)   \n",
              "\n",
              "             species                                               link  \n",
              "278  transsylvanicus  https://www.nhm.ac.uk/discover/dino-directory/...  "
            ],
            "text/html": [
              "\n",
              "  <div id=\"df-6858bd9f-9c9b-4079-8fc9-99b95ae250b2\" class=\"colab-df-container\">\n",
              "    <div>\n",
              "<style scoped>\n",
              "    .dataframe tbody tr th:only-of-type {\n",
              "        vertical-align: middle;\n",
              "    }\n",
              "\n",
              "    .dataframe tbody tr th {\n",
              "        vertical-align: top;\n",
              "    }\n",
              "\n",
              "    .dataframe thead th {\n",
              "        text-align: right;\n",
              "    }\n",
              "</style>\n",
              "<table border=\"1\" class=\"dataframe\">\n",
              "  <thead>\n",
              "    <tr style=\"text-align: right;\">\n",
              "      <th></th>\n",
              "      <th>name</th>\n",
              "      <th>diet</th>\n",
              "      <th>period</th>\n",
              "      <th>lived_in</th>\n",
              "      <th>type</th>\n",
              "      <th>length</th>\n",
              "      <th>taxonomy</th>\n",
              "      <th>named_by</th>\n",
              "      <th>species</th>\n",
              "      <th>link</th>\n",
              "    </tr>\n",
              "  </thead>\n",
              "  <tbody>\n",
              "    <tr>\n",
              "      <th>278</th>\n",
              "      <td>telmatosaurus</td>\n",
              "      <td>herbivorous</td>\n",
              "      <td>Late Cretaceous 84-65 million years ago</td>\n",
              "      <td>Spain</td>\n",
              "      <td>euornithopod</td>\n",
              "      <td>5.0m</td>\n",
              "      <td>Dinosauria Ornithischia Genasauria Cerapoda Or...</td>\n",
              "      <td>Nopcsa (1900)</td>\n",
              "      <td>transsylvanicus</td>\n",
              "      <td>https://www.nhm.ac.uk/discover/dino-directory/...</td>\n",
              "    </tr>\n",
              "  </tbody>\n",
              "</table>\n",
              "</div>\n",
              "    <div class=\"colab-df-buttons\">\n",
              "\n",
              "  <div class=\"colab-df-container\">\n",
              "    <button class=\"colab-df-convert\" onclick=\"convertToInteractive('df-6858bd9f-9c9b-4079-8fc9-99b95ae250b2')\"\n",
              "            title=\"Convert this dataframe to an interactive table.\"\n",
              "            style=\"display:none;\">\n",
              "\n",
              "  <svg xmlns=\"http://www.w3.org/2000/svg\" height=\"24px\" viewBox=\"0 -960 960 960\">\n",
              "    <path d=\"M120-120v-720h720v720H120Zm60-500h600v-160H180v160Zm220 220h160v-160H400v160Zm0 220h160v-160H400v160ZM180-400h160v-160H180v160Zm440 0h160v-160H620v160ZM180-180h160v-160H180v160Zm440 0h160v-160H620v160Z\"/>\n",
              "  </svg>\n",
              "    </button>\n",
              "\n",
              "  <style>\n",
              "    .colab-df-container {\n",
              "      display:flex;\n",
              "      gap: 12px;\n",
              "    }\n",
              "\n",
              "    .colab-df-convert {\n",
              "      background-color: #E8F0FE;\n",
              "      border: none;\n",
              "      border-radius: 50%;\n",
              "      cursor: pointer;\n",
              "      display: none;\n",
              "      fill: #1967D2;\n",
              "      height: 32px;\n",
              "      padding: 0 0 0 0;\n",
              "      width: 32px;\n",
              "    }\n",
              "\n",
              "    .colab-df-convert:hover {\n",
              "      background-color: #E2EBFA;\n",
              "      box-shadow: 0px 1px 2px rgba(60, 64, 67, 0.3), 0px 1px 3px 1px rgba(60, 64, 67, 0.15);\n",
              "      fill: #174EA6;\n",
              "    }\n",
              "\n",
              "    .colab-df-buttons div {\n",
              "      margin-bottom: 4px;\n",
              "    }\n",
              "\n",
              "    [theme=dark] .colab-df-convert {\n",
              "      background-color: #3B4455;\n",
              "      fill: #D2E3FC;\n",
              "    }\n",
              "\n",
              "    [theme=dark] .colab-df-convert:hover {\n",
              "      background-color: #434B5C;\n",
              "      box-shadow: 0px 1px 3px 1px rgba(0, 0, 0, 0.15);\n",
              "      filter: drop-shadow(0px 1px 2px rgba(0, 0, 0, 0.3));\n",
              "      fill: #FFFFFF;\n",
              "    }\n",
              "  </style>\n",
              "\n",
              "    <script>\n",
              "      const buttonEl =\n",
              "        document.querySelector('#df-6858bd9f-9c9b-4079-8fc9-99b95ae250b2 button.colab-df-convert');\n",
              "      buttonEl.style.display =\n",
              "        google.colab.kernel.accessAllowed ? 'block' : 'none';\n",
              "\n",
              "      async function convertToInteractive(key) {\n",
              "        const element = document.querySelector('#df-6858bd9f-9c9b-4079-8fc9-99b95ae250b2');\n",
              "        const dataTable =\n",
              "          await google.colab.kernel.invokeFunction('convertToInteractive',\n",
              "                                                    [key], {});\n",
              "        if (!dataTable) return;\n",
              "\n",
              "        const docLinkHtml = 'Like what you see? Visit the ' +\n",
              "          '<a target=\"_blank\" href=https://colab.research.google.com/notebooks/data_table.ipynb>data table notebook</a>'\n",
              "          + ' to learn more about interactive tables.';\n",
              "        element.innerHTML = '';\n",
              "        dataTable['output_type'] = 'display_data';\n",
              "        await google.colab.output.renderOutput(dataTable, element);\n",
              "        const docLink = document.createElement('div');\n",
              "        docLink.innerHTML = docLinkHtml;\n",
              "        element.appendChild(docLink);\n",
              "      }\n",
              "    </script>\n",
              "  </div>\n",
              "\n",
              "\n",
              "    </div>\n",
              "  </div>\n"
            ],
            "application/vnd.google.colaboratory.intrinsic+json": {
              "type": "dataframe",
              "summary": "{\n  \"name\": \"df\",\n  \"rows\": 1,\n  \"fields\": [\n    {\n      \"column\": \"name\",\n      \"properties\": {\n        \"dtype\": \"string\",\n        \"num_unique_values\": 1,\n        \"samples\": [\n          \"telmatosaurus\"\n        ],\n        \"semantic_type\": \"\",\n        \"description\": \"\"\n      }\n    },\n    {\n      \"column\": \"diet\",\n      \"properties\": {\n        \"dtype\": \"string\",\n        \"num_unique_values\": 1,\n        \"samples\": [\n          \"herbivorous\"\n        ],\n        \"semantic_type\": \"\",\n        \"description\": \"\"\n      }\n    },\n    {\n      \"column\": \"period\",\n      \"properties\": {\n        \"dtype\": \"string\",\n        \"num_unique_values\": 1,\n        \"samples\": [\n          \"Late Cretaceous 84-65 million years ago\"\n        ],\n        \"semantic_type\": \"\",\n        \"description\": \"\"\n      }\n    },\n    {\n      \"column\": \"lived_in\",\n      \"properties\": {\n        \"dtype\": \"string\",\n        \"num_unique_values\": 1,\n        \"samples\": [\n          \"Spain\"\n        ],\n        \"semantic_type\": \"\",\n        \"description\": \"\"\n      }\n    },\n    {\n      \"column\": \"type\",\n      \"properties\": {\n        \"dtype\": \"string\",\n        \"num_unique_values\": 1,\n        \"samples\": [\n          \"euornithopod\"\n        ],\n        \"semantic_type\": \"\",\n        \"description\": \"\"\n      }\n    },\n    {\n      \"column\": \"length\",\n      \"properties\": {\n        \"dtype\": \"string\",\n        \"num_unique_values\": 1,\n        \"samples\": [\n          \"5.0m\"\n        ],\n        \"semantic_type\": \"\",\n        \"description\": \"\"\n      }\n    },\n    {\n      \"column\": \"taxonomy\",\n      \"properties\": {\n        \"dtype\": \"string\",\n        \"num_unique_values\": 1,\n        \"samples\": [\n          \"Dinosauria Ornithischia Genasauria Cerapoda Ornithopoda Euornithopoda Iguanadontia Euiguanadontia Dryomorpha Ankylopollexia Iguanodontoidea Hadrosauridae\"\n        ],\n        \"semantic_type\": \"\",\n        \"description\": \"\"\n      }\n    },\n    {\n      \"column\": \"named_by\",\n      \"properties\": {\n        \"dtype\": \"string\",\n        \"num_unique_values\": 1,\n        \"samples\": [\n          \"Nopcsa (1900)\"\n        ],\n        \"semantic_type\": \"\",\n        \"description\": \"\"\n      }\n    },\n    {\n      \"column\": \"species\",\n      \"properties\": {\n        \"dtype\": \"string\",\n        \"num_unique_values\": 1,\n        \"samples\": [\n          \"transsylvanicus\"\n        ],\n        \"semantic_type\": \"\",\n        \"description\": \"\"\n      }\n    },\n    {\n      \"column\": \"link\",\n      \"properties\": {\n        \"dtype\": \"string\",\n        \"num_unique_values\": 1,\n        \"samples\": [\n          \"https://www.nhm.ac.uk/discover/dino-directory/telmatosaurus.html\"\n        ],\n        \"semantic_type\": \"\",\n        \"description\": \"\"\n      }\n    }\n  ]\n}"
            }
          },
          "metadata": {},
          "execution_count": 23
        }
      ]
    },
    {
      "cell_type": "markdown",
      "source": [
        "Step 3: plot histogram"
      ],
      "metadata": {
        "id": "AEnWuptIOWse"
      }
    },
    {
      "cell_type": "code",
      "source": [
        "# TO DO 3\n",
        "### Uncomment the next line to generate the error ###\n",
        "# plt.hist(df[\"length\"])\n",
        "# plt.show()\n",
        "\n",
        "\n",
        "### Prefered solution because I want to use the length later on ###\n",
        "for i, length in enumerate(df[\"length\"]):\n",
        "  if type(length) == str:\n",
        "    df[\"length\"][i] = float(length[:-1])\n",
        "\n",
        "plt.hist(df[\"length\"], bins=20)\n",
        "plt.ylabel(\"Count\")\n",
        "plt.xlabel(\"Length [m]\")\n",
        "plt.show()"
      ],
      "metadata": {
        "id": "GZSpGgKoOaE0",
        "colab": {
          "base_uri": "https://localhost:8080/",
          "height": 518
        },
        "outputId": "19083ba8-9382-4282-921d-f37c58bd5282"
      },
      "execution_count": null,
      "outputs": [
        {
          "output_type": "stream",
          "name": "stderr",
          "text": [
            "/usr/local/lib/python3.10/dist-packages/numpy/lib/histograms.py:825: RuntimeWarning: invalid value encountered in greater_equal\n",
            "  keep = (tmp_a >= first_edge)\n",
            "/usr/local/lib/python3.10/dist-packages/numpy/lib/histograms.py:826: RuntimeWarning: invalid value encountered in less_equal\n",
            "  keep &= (tmp_a <= last_edge)\n"
          ]
        },
        {
          "output_type": "display_data",
          "data": {
            "text/plain": [
              "<Figure size 640x480 with 1 Axes>"
            ],
            "image/png": "[encoded data removed]"
          },
          "metadata": {}
        }
      ]
    },
    {
      "cell_type": "markdown",
      "source": [
        "Step 4: finding longest dinoaur.s"
      ],
      "metadata": {
        "id": "Bmu6-pMsOfBt"
      }
    },
    {
      "cell_type": "code",
      "source": [
        "# TO DO 4\n",
        "print(df[\"length\"].sort_values(na_position=\"first\"))\n",
        "\n",
        "# You know from the print that the dino at the position 30 and 273 are the longest.\n",
        "\n",
        "print(df.iloc[30])\n",
        "print(df.iloc[273])"
      ],
      "metadata": {
        "id": "bqi521zZPMX5",
        "colab": {
          "base_uri": "https://localhost:8080/"
        },
        "outputId": "2bb1e256-7271-4deb-de83-9786ba753dd3"
      },
      "execution_count": null,
      "outputs": [
        {
          "output_type": "stream",
          "name": "stdout",
          "text": [
            "90      NaN\n",
            "96      NaN\n",
            "99      NaN\n",
            "120     NaN\n",
            "140     NaN\n",
            "       ... \n",
            "85     26.0\n",
            "210    28.0\n",
            "47     30.0\n",
            "30     35.0\n",
            "273    35.0\n",
            "Name: length, Length: 309, dtype: object\n",
            "name                                          argentinosaurus\n",
            "diet                                              herbivorous\n",
            "period                   Late Cretaceous 90 million years ago\n",
            "lived_in                                            Argentina\n",
            "type                                                 sauropod\n",
            "length                                                   35.0\n",
            "taxonomy    Dinosauria Saurischia Sauropodomorpha Sauropod...\n",
            "named_by                           Bonaparte and Coria (1993)\n",
            "species                                          huinculensis\n",
            "link        https://www.nhm.ac.uk/discover/dino-directory/...\n",
            "Name: 30, dtype: object\n",
            "name                                              supersaurus\n",
            "diet                                              herbivorous\n",
            "period             Early Cretaceous 154-142 million years ago\n",
            "lived_in                                                  USA\n",
            "type                                                 sauropod\n",
            "length                                                   35.0\n",
            "taxonomy    Dinosauria Saurischia Sauropodomorpha Sauropod...\n",
            "named_by                                        Jansen (1985)\n",
            "species                                              vivianae\n",
            "link        https://www.nhm.ac.uk/discover/dino-directory/...\n",
            "Name: 273, dtype: object\n"
          ]
        }
      ]
    },
    {
      "cell_type": "markdown",
      "source": [
        "Step 5: diet"
      ],
      "metadata": {
        "id": "h7IdbOixPsqT"
      }
    },
    {
      "cell_type": "code",
      "source": [
        "# TO DO 5\n",
        "plt.hist(df[\"diet\"])\n",
        "plt.xlabel(\"Diet\")\n",
        "plt.ylabel(\"Count\")\n",
        "plt.title(\"Diet of the dinosaur\")\n",
        "plt.show()"
      ],
      "metadata": {
        "id": "zWDiT80KP2SA",
        "colab": {
          "base_uri": "https://localhost:8080/",
          "height": 472
        },
        "outputId": "ad6d2643-59b9-42ab-9e97-5ae902544158"
      },
      "execution_count": null,
      "outputs": [
        {
          "output_type": "display_data",
          "data": {
            "text/plain": [
              "<Figure size 640x480 with 1 Axes>"
            ],
            "image/png": "[encoded data removed]"
          },
          "metadata": {}
        }
      ]
    },
    {
      "cell_type": "code",
      "source": [
        "# TO DO 6\n",
        "selected_df = df[[\"diet\", \"length\"]].dropna()\n",
        "all_length = list(selected_df.groupby([\"diet\"]))\n",
        "\n",
        "carni = all_length[0][1]\n",
        "herbi = all_length[1][1]\n",
        "omniv = all_length[3][1]\n",
        "\n",
        "data = [carni[\"length\"], omniv[\"length\"], herbi[\"length\"]]\n",
        "\n",
        "plt.boxplot(data, labels=[\"Carnivors\", \"Omnivors\", \"Herbivors\"])\n",
        "plt.ylabel(\"Length [m]\")\n",
        "plt.xlabel(\"Diet\")\n",
        "plt.title(\"Comparaison between the length of the dinosaurs based on their diet.\")\n",
        "plt.show()"
      ],
      "metadata": {
        "id": "gZlkGdf3RDHL",
        "colab": {
          "base_uri": "https://localhost:8080/",
          "height": 472
        },
        "outputId": "dc04f8a0-8de2-4d11-d05e-82d68cdfc6c0"
      },
      "execution_count": null,
      "outputs": [
        {
          "output_type": "display_data",
          "data": {
            "text/plain": [
              "<Figure size 640x480 with 1 Axes>"
            ],
            "image/png": "[encoded data removed]"
          },
          "metadata": {}
        }
      ]
    }
  ]
}